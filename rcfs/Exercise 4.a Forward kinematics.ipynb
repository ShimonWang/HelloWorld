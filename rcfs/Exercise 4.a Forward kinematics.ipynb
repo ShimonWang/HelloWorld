{
 "cells": [
  {
   "cell_type": "code",
   "id": "initial_id",
   "metadata": {
    "collapsed": true,
    "ExecuteTime": {
     "end_time": "2025-02-17T12:14:20.388761Z",
     "start_time": "2025-02-17T12:14:20.207040Z"
    }
   },
   "source": [
    "import numpy as np\n",
    "\n",
    "param.nbVarX = 3 # State space dimension (x1,x2,x3)\n",
    "param.l = np.ones(param.nbVarX) * 800 / param.nbVarX # Robot links lengths\n",
    "x = -np.ones(param.nbVarX) * np.pi / param.nbVarX # Initial robot state\n",
    "x[0] = x[0] + np.pi\n",
    "print(x)\n",
    "print(fkin(x,param))\n",
    "\n",
    "# Forward kinematics for end-effector (in robot coordinate system)\n",
    "def fkin(x, param):\n",
    "    f_x = param.l[0]*np.cos(x[0]) + param.l[1]*np.cos(x[0]+x[1]) + param.l[2]*np.cos(x[0]+x[1]+x[2])\n",
    "    f_y = param.l[0]*np.sin(x[0]) + param.l[1]*np.sin(x[0]+x[1]) + param.l[2]*np.sin(x[0]+x[1]+x[2])\n",
    "    f = np.array([f_x, f_y])\n",
    "    return f"
   ],
   "outputs": [
    {
     "ename": "NameError",
     "evalue": "name 'param' is not defined",
     "output_type": "error",
     "traceback": [
      "\u001B[0;31m---------------------------------------------------------------------------\u001B[0m",
      "\u001B[0;31mNameError\u001B[0m                                 Traceback (most recent call last)",
      "Cell \u001B[0;32mIn[1], line 3\u001B[0m\n\u001B[1;32m      1\u001B[0m \u001B[38;5;28;01mimport\u001B[39;00m\u001B[38;5;250m \u001B[39m\u001B[38;5;21;01mnumpy\u001B[39;00m\u001B[38;5;250m \u001B[39m\u001B[38;5;28;01mas\u001B[39;00m\u001B[38;5;250m \u001B[39m\u001B[38;5;21;01mnp\u001B[39;00m\n\u001B[0;32m----> 3\u001B[0m \u001B[43mparam\u001B[49m\u001B[38;5;241m.\u001B[39mnbVarX \u001B[38;5;241m=\u001B[39m \u001B[38;5;241m3\u001B[39m \u001B[38;5;66;03m# State space dimension (x1,x2,x3)\u001B[39;00m\n\u001B[1;32m      4\u001B[0m param\u001B[38;5;241m.\u001B[39ml \u001B[38;5;241m=\u001B[39m np\u001B[38;5;241m.\u001B[39mones(param\u001B[38;5;241m.\u001B[39mnbVarX) \u001B[38;5;241m*\u001B[39m \u001B[38;5;241m800\u001B[39m \u001B[38;5;241m/\u001B[39m param\u001B[38;5;241m.\u001B[39mnbVarX \u001B[38;5;66;03m# Robot links lengths\u001B[39;00m\n\u001B[1;32m      5\u001B[0m x \u001B[38;5;241m=\u001B[39m \u001B[38;5;241m-\u001B[39mnp\u001B[38;5;241m.\u001B[39mones(param\u001B[38;5;241m.\u001B[39mnbVarX) \u001B[38;5;241m*\u001B[39m np\u001B[38;5;241m.\u001B[39mpi \u001B[38;5;241m/\u001B[39m param\u001B[38;5;241m.\u001B[39mnbVarX \u001B[38;5;66;03m# Initial robot state\u001B[39;00m\n",
      "\u001B[0;31mNameError\u001B[0m: name 'param' is not defined"
     ]
    }
   ],
   "execution_count": 1
  },
  {
   "metadata": {},
   "cell_type": "code",
   "outputs": [],
   "execution_count": null,
   "source": [
    "param.nbVarX = 3 # State space dimension (x1,x2,x3)\n",
    "param.l = np.ones(param.nbVarX) * 800 / param.nbVarX # Robot links lengths\n",
    "x = -np.ones(param.nbVarX) * np.pi / param.nbVarX # Initial robot state\n",
    "x[0] = x[0] + np.pi\n",
    "print(fkin(x, param))\n",
    "\n",
    "# Forward kinematics for end-effector (in robot coordinate system)\n",
    "def fkin(x, param):\n",
    "    L = np.tril(np.ones([param.nbVarX, param.nbVarX]))  # 下三角矩阵\n",
    "    print(L)\n",
    "    f = np.array([param.l @ np.cos(L @ x), param.l @ np.sin(L @ x)])\n",
    "    return f"
   ],
   "id": "9f4d50cc4471c24"
  }
 ],
 "metadata": {
  "kernelspec": {
   "display_name": "Python 3",
   "language": "python",
   "name": "python3"
  },
  "language_info": {
   "codemirror_mode": {
    "name": "ipython",
    "version": 2
   },
   "file_extension": ".py",
   "mimetype": "text/x-python",
   "name": "python",
   "nbconvert_exporter": "python",
   "pygments_lexer": "ipython2",
   "version": "2.7.6"
  }
 },
 "nbformat": 4,
 "nbformat_minor": 5
}
