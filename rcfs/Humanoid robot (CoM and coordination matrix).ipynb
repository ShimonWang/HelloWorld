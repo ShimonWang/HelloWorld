{
 "cells": [
  {
   "cell_type": "code",
   "id": "initial_id",
   "metadata": {
    "collapsed": true,
    "ExecuteTime": {
     "end_time": "2025-02-19T11:34:37.551087Z",
     "start_time": "2025-02-19T11:34:37.470517Z"
    }
   },
   "source": [
    "# Initialization\n",
    "a = .7\n",
    "x = np.array([np.pi/2-a, 2*a, -a, 3*np.pi/4, 3*np.pi/4]) # Initial robot state\n",
    "\n",
    "# Control loop definition\n",
    "def control(x, param):\n",
    "    # Coordinated control (position tracking with coordination matrix)\n",
    "    u = np.zeros(param.nbVarX)\n",
    "    # print(u)\n",
    "\n",
    "    if move_joint >= 0:\n",
    "        # Imposed coordination matrix (no correlations imposed on the last two joints)\n",
    "        C = [[-1,0,0], [2,0,0], [-1,0,0], [0,1,0], [0,0,1]]\n",
    "        # Residual and Jacobian\n",
    "        df = (mouse - fkin(x[:move_joint+1], param2)) * 5  # mouse:鼠标点击位置\n",
    "        print('mouse:', mouse)\n",
    "        print('param2:', param2)\n",
    "        print('fkin(x[:move_joint+1], param2):', fkin(x[:move_joint+1], param2))\n",
    "        print('df:', df)\n",
    "        J = Jkin(x[:move_joint+1], param2)\n",
    "        print('J:', J)\n",
    "        J = np.hstack((J, np.zeros([2,param.nbVarX-move_joint-1]))) # Augmented form # 扩展\n",
    "        print('np.zeros([2,param.nbVarX-move_joint-1]):', np.zeros([2,param.nbVarX-move_joint-1]) )\n",
    "        print('J\\'', J)\n",
    "        J = J @ C # Imposed coordination\n",
    "        print('J:', J)\n",
    "        # IK\n",
    "        pinvJ = np.linalg.inv(J.T @ J + np.eye(J.shape[1]) * 1e-1) @ J.T # Damped pseudoinverse\n",
    "        u = C @ pinvJ @ df # Control commands with imposed coordination\n",
    "\n",
    "    return 0.1 * u / param.dt   # Velocity in rad/s"
   ],
   "outputs": [
    {
     "ename": "NameError",
     "evalue": "name 'np' is not defined",
     "output_type": "error",
     "traceback": [
      "\u001B[0;31m---------------------------------------------------------------------------\u001B[0m",
      "\u001B[0;31mNameError\u001B[0m                                 Traceback (most recent call last)",
      "Cell \u001B[0;32mIn[1], line 3\u001B[0m\n\u001B[1;32m      1\u001B[0m \u001B[38;5;66;03m# Initialization\u001B[39;00m\n\u001B[1;32m      2\u001B[0m a \u001B[38;5;241m=\u001B[39m \u001B[38;5;241m.7\u001B[39m\n\u001B[0;32m----> 3\u001B[0m x \u001B[38;5;241m=\u001B[39m \u001B[43mnp\u001B[49m\u001B[38;5;241m.\u001B[39marray([np\u001B[38;5;241m.\u001B[39mpi\u001B[38;5;241m/\u001B[39m\u001B[38;5;241m2\u001B[39m\u001B[38;5;241m-\u001B[39ma, \u001B[38;5;241m2\u001B[39m\u001B[38;5;241m*\u001B[39ma, \u001B[38;5;241m-\u001B[39ma, \u001B[38;5;241m3\u001B[39m\u001B[38;5;241m*\u001B[39mnp\u001B[38;5;241m.\u001B[39mpi\u001B[38;5;241m/\u001B[39m\u001B[38;5;241m4\u001B[39m, \u001B[38;5;241m3\u001B[39m\u001B[38;5;241m*\u001B[39mnp\u001B[38;5;241m.\u001B[39mpi\u001B[38;5;241m/\u001B[39m\u001B[38;5;241m4\u001B[39m]) \u001B[38;5;66;03m# Initial robot state\u001B[39;00m\n\u001B[1;32m      5\u001B[0m \u001B[38;5;66;03m# Control loop definition\u001B[39;00m\n\u001B[1;32m      6\u001B[0m \u001B[38;5;28;01mdef\u001B[39;00m\u001B[38;5;250m \u001B[39m\u001B[38;5;21mcontrol\u001B[39m(x, param):\n\u001B[1;32m      7\u001B[0m     \u001B[38;5;66;03m# Coordinated control (position tracking with coordination matrix)\u001B[39;00m\n",
      "\u001B[0;31mNameError\u001B[0m: name 'np' is not defined"
     ]
    }
   ],
   "execution_count": 1
  },
  {
   "metadata": {
    "ExecuteTime": {
     "end_time": "2025-02-19T12:13:27.126501Z",
     "start_time": "2025-02-19T12:13:27.122589Z"
    }
   },
   "cell_type": "code",
   "source": [
    "import numpy as np\n",
    "\n",
    "a = np.zeros([2,3-2-1])\n",
    "a\n",
    "# print(np.zeros([2,3-2-1]))"
   ],
   "id": "12e4efe2ced7b5cb",
   "outputs": [
    {
     "data": {
      "text/plain": [
       "array([], shape=(2, 0), dtype=float64)"
      ]
     },
     "execution_count": 7,
     "metadata": {},
     "output_type": "execute_result"
    }
   ],
   "execution_count": 7
  },
  {
   "metadata": {},
   "cell_type": "code",
   "outputs": [],
   "execution_count": null,
   "source": [
    "# Initialization\n",
    "a = .7\n",
    "x = np.array([np.pi/2-a, 2*a, -a, 3*np.pi/4, 3*np.pi/4]) # Initial robot state\n",
    "\n",
    "# Control loop definition\n",
    "def control(x, param):\n",
    "    # Prioritized control (CoM tracking prioritized over position tracking)\n",
    "    u = np.zeros(param.nbVarX)\n",
    "\n",
    "    if move_joint >= 0:\n",
    "        # Residuals and Jacobian for primary task # 第一任务\n",
    "        df1 = (param.Mu_CoM - fkin_CoM(x, param)) * 5\n",
    "\n",
    "        print('param.Mu_CoM:', param.Mu_CoM)\n",
    "        print('fkin_CoM(x, param):', fkin_CoM(x, param))\n",
    "\n",
    "        J1 = Jkin_CoM(x, param)\n",
    "        df1 = df1[:1] # Track only horizontal location of CoM\n",
    "        J1 = J1[:1,:] # Track only horizontal location of CoM x轴方向\n",
    "\n",
    "        # Residual and Jacobian for secondary task # 第二任务\n",
    "        df2 = (mouse - fkin(x[:move_joint+1], param2)) * 5  # 鼠标点击移动move_joint下标的关节\n",
    "        # print('df2:', df2)\n",
    "        print('move_joint:', move_joint)\n",
    "        J2 = Jkin(x[:move_joint+1], param2)\n",
    "        # print('J2:', J2)\n",
    "        J2 = np.hstack((J2, np.zeros([2,param.nbVarX-move_joint-1]))) # Augmented form\n",
    "        # print('J2:', J2)\n",
    "\n",
    "        # Prioritized control\n",
    "        print('J1:', J1)\n",
    "        print('J2:', J2)\n",
    "        pinvJ1 = np.linalg.inv(J1.T @ J1 + np.eye(J1.shape[1]) * 1e-1) @ J1.T # Damped pseudoinverse\n",
    "        N1 = np.eye(param.nbVarX) - pinvJ1 @ J1 # Nullspace projection operator # 零空间投影算子\n",
    "        u1 = pinvJ1 @ df1 # Command for position tracking\n",
    "        J2N1 = J2 @ N1\n",
    "        pinvJ2N1 = np.linalg.inv(J2N1.T @ J2N1 + np.eye(J2N1.shape[1]) * 1e5) @ J2N1.T # Damped pseudoinverse\n",
    "        u2 = pinvJ2N1 @ (df2 - J2 @ u1) # Command for orientation tracking (with position tracking prioritized)  # 定向跟踪命令（优先考虑位置（质心x方向）跟踪）\n",
    "        u = u1 + N1 @ u2 # Control commands\n",
    "\n",
    "    return 0.1 * u / param.dt   # Velocity in rad/s"
   ],
   "id": "71f352f2e10c6b15"
  }
 ],
 "metadata": {
  "kernelspec": {
   "display_name": "Python 3",
   "language": "python",
   "name": "python3"
  },
  "language_info": {
   "codemirror_mode": {
    "name": "ipython",
    "version": 2
   },
   "file_extension": ".py",
   "mimetype": "text/x-python",
   "name": "python",
   "nbconvert_exporter": "python",
   "pygments_lexer": "ipython2",
   "version": "2.7.6"
  }
 },
 "nbformat": 4,
 "nbformat_minor": 5
}
