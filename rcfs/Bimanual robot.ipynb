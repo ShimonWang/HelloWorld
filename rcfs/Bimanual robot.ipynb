{
 "cells": [
  {
   "cell_type": "code",
   "id": "initial_id",
   "metadata": {
    "collapsed": true,
    "ExecuteTime": {
     "end_time": "2025-02-18T13:57:07.337566Z",
     "start_time": "2025-02-18T13:57:07.256633Z"
    }
   },
   "source": [
    "# Initialization\n",
    "x0 = np.array([np.pi/2, np.pi/2, np.pi/4, -np.pi/2, -np.pi/4]) # Initial robot state\n",
    "\n",
    "# Control loop definition\n",
    "def control(x, param):\n",
    "    f = fkin(x, param)\n",
    "    J = Jkin(x, param)\n",
    "\n",
    "    # u = np.linalg.pinv(J) @ (param.Mu - f) # Control commands\n",
    "    # u = np.zeros(param.nbVarX) # Control commands\n",
    "\n",
    "    pinvJ = np.linalg.inv(J.T @ J + np.eye(param.nbVarX) * 1E4) @ J.T # Damped pseudoinverse\n",
    "    u = pinvJ @ (param.Mu - f) # Control commands\n",
    "\n",
    "    return 0.1 * u / param.dt   # Velocity in rad/s"
   ],
   "outputs": [
    {
     "ename": "NameError",
     "evalue": "name 'np' is not defined",
     "output_type": "error",
     "traceback": [
      "\u001B[0;31m---------------------------------------------------------------------------\u001B[0m",
      "\u001B[0;31mNameError\u001B[0m                                 Traceback (most recent call last)",
      "Cell \u001B[0;32mIn[1], line 2\u001B[0m\n\u001B[1;32m      1\u001B[0m \u001B[38;5;66;03m# Initialization\u001B[39;00m\n\u001B[0;32m----> 2\u001B[0m x0 \u001B[38;5;241m=\u001B[39m \u001B[43mnp\u001B[49m\u001B[38;5;241m.\u001B[39marray([np\u001B[38;5;241m.\u001B[39mpi\u001B[38;5;241m/\u001B[39m\u001B[38;5;241m2\u001B[39m, np\u001B[38;5;241m.\u001B[39mpi\u001B[38;5;241m/\u001B[39m\u001B[38;5;241m2\u001B[39m, np\u001B[38;5;241m.\u001B[39mpi\u001B[38;5;241m/\u001B[39m\u001B[38;5;241m4\u001B[39m, \u001B[38;5;241m-\u001B[39mnp\u001B[38;5;241m.\u001B[39mpi\u001B[38;5;241m/\u001B[39m\u001B[38;5;241m2\u001B[39m, \u001B[38;5;241m-\u001B[39mnp\u001B[38;5;241m.\u001B[39mpi\u001B[38;5;241m/\u001B[39m\u001B[38;5;241m4\u001B[39m]) \u001B[38;5;66;03m# Initial robot state\u001B[39;00m\n\u001B[1;32m      4\u001B[0m \u001B[38;5;66;03m# Control loop definition\u001B[39;00m\n\u001B[1;32m      5\u001B[0m \u001B[38;5;28;01mdef\u001B[39;00m\u001B[38;5;250m \u001B[39m\u001B[38;5;21mcontrol\u001B[39m(x, param):\n",
      "\u001B[0;31mNameError\u001B[0m: name 'np' is not defined"
     ]
    }
   ],
   "execution_count": 1
  },
  {
   "metadata": {},
   "cell_type": "code",
   "outputs": [],
   "execution_count": null,
   "source": [
    "# Initialization\n",
    "x0 = np.array([np.pi/2, np.pi/2, np.pi/4, -np.pi/2, -np.pi/4]) # Initial robot state\n",
    "\n",
    "# Control loop definition\n",
    "def control(x, param):\n",
    "    f = fkin(x, param)\n",
    "    J = Jkin(x, param)\n",
    "\n",
    "    # Prioritized control (left tracking as main objective)\n",
    "    dfl = (param.Mu[:2] - f[:2]) # Left hand correction\n",
    "    dfr = (param.Mu[2:] - f[2:]) # Right hand correction\n",
    "    Jl = J[:2,:] # Jacobian for left hand\n",
    "    Jr = J[2:,:] # Jacobian for right hand\n",
    "    pinvJl = np.linalg.inv(Jl.T @ Jl + np.eye(param.nbVarX) * 1e1) @ Jl.T # Damped pseudoinverse\n",
    "    Nl = np.eye(param.nbVarX) - pinvJl @ Jl # Nullspace projection operator\n",
    "    ul = pinvJl @ dfl # Command for position tracking\n",
    "    JrNl = Jr @ Nl\n",
    "    pinvJrNl = JrNl.T @ np.linalg.inv(JrNl @ JrNl.T + np.eye(2) * 1e5) # Damped pseudoinverse\n",
    "    ur = pinvJrNl @ (dfr - Jr @ ul) # Command for right hand tracking (with left hand tracking prioritized)\n",
    "    u = ul + Nl @ ur # Control commands\n",
    "\n",
    "    return 0.1 * u / param.dt   # Velocity in rad/s"
   ],
   "id": "d493c7b41f468b85"
  }
 ],
 "metadata": {
  "kernelspec": {
   "display_name": "Python 3",
   "language": "python",
   "name": "python3"
  },
  "language_info": {
   "codemirror_mode": {
    "name": "ipython",
    "version": 2
   },
   "file_extension": ".py",
   "mimetype": "text/x-python",
   "name": "python",
   "nbconvert_exporter": "python",
   "pygments_lexer": "ipython2",
   "version": "2.7.6"
  }
 },
 "nbformat": 4,
 "nbformat_minor": 5
}
