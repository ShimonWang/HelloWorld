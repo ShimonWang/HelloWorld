{
 "cells": [
  {
   "cell_type": "code",
   "id": "initial_id",
   "metadata": {
    "collapsed": true,
    "ExecuteTime": {
     "end_time": "2025-02-16T12:30:48.223179Z",
     "start_time": "2025-02-16T12:30:48.218744Z"
    }
   },
   "source": "print('Hello world!')",
   "outputs": [
    {
     "name": "stdout",
     "output_type": "stream",
     "text": [
      "Hello world!\n"
     ]
    }
   ],
   "execution_count": 1
  },
  {
   "metadata": {
    "ExecuteTime": {
     "end_time": "2025-02-16T12:32:12.766234Z",
     "start_time": "2025-02-16T12:32:12.694934Z"
    }
   },
   "cell_type": "code",
   "source": [
    "import numpy as np\n",
    "\n",
    "vec1 = np.array([3., 4.]) # create a vector with given entries\n",
    "vec2 = np.random.randn(3) # create a random vector\n",
    "print(vec1)\n",
    "print(vec2)"
   ],
   "id": "4415b160b4eaddf8",
   "outputs": [
    {
     "name": "stdout",
     "output_type": "stream",
     "text": [
      "[3. 4.]\n",
      "[ 0.99127107  1.09213008 -0.26372463]\n"
     ]
    }
   ],
   "execution_count": 4
  },
  {
   "metadata": {
    "ExecuteTime": {
     "end_time": "2025-02-16T13:07:52.578049Z",
     "start_time": "2025-02-16T13:07:52.574609Z"
    }
   },
   "cell_type": "code",
   "source": [
    "mat1 = np.array([[1.,2.],[3., 4.]]) # create a matrix with given entries\n",
    "mat2 = np.random.randn(3,3) # create a random 3x3 matrix\n",
    "print(mat1)\n",
    "print(mat2)"
   ],
   "id": "44a1cf8e15b8fc30",
   "outputs": [
    {
     "name": "stdout",
     "output_type": "stream",
     "text": [
      "[[1. 2.]\n",
      " [3. 4.]]\n",
      "[[ 0.33677533  1.01976486  0.17641114]\n",
      " [ 0.6424688  -0.20037174  0.24244065]\n",
      " [ 1.21635935  0.16948958 -0.0507967 ]]\n"
     ]
    }
   ],
   "execution_count": 17
  },
  {
   "metadata": {
    "ExecuteTime": {
     "end_time": "2025-02-16T12:42:07.391461Z",
     "start_time": "2025-02-16T12:42:07.388896Z"
    }
   },
   "cell_type": "code",
   "source": [
    "prod1 = mat1 @ mat1 # multiply mat1 by mat1 # mat1 乘 mat1\n",
    "prod2 = mat1 * mat1 # elementwise product between mat1 by mat1 # mat1 与 mat1 之间的元素乘积\n",
    "prod3 = mat1 @ vec1 # multiply mat1 by vec1 # 用 vec1 乘 mat1\n",
    "prod4a = vec2.T @ vec2 # dot product between vec2 and vec2 # vec2 和 vec2 之间的点积\n",
    "prod4b = vec2.dot(vec2) # dot product between vec2 and vec2 # vec2 和 vec2 之间的点积\n",
    "prod5 = np.outer(vec2, vec2) # Outer product between vec2 and vec2 # vec2 和 vec2 的外积\n",
    "prod6 = vec2 @ vec2.T\n",
    "print(prod4a)\n",
    "print(prod4b) # Display two of the results # 显示两个结果"
   ],
   "id": "3e6bea604eb2c9b5",
   "outputs": [
    {
     "name": "stdout",
     "output_type": "stream",
     "text": [
      "2.2449171265861243\n",
      "2.2449171265861243\n"
     ]
    }
   ],
   "execution_count": 9
  },
  {
   "metadata": {
    "ExecuteTime": {
     "end_time": "2025-02-16T13:46:26.910434Z",
     "start_time": "2025-02-16T13:46:26.900915Z"
    }
   },
   "cell_type": "code",
   "source": [
    "vec3 = np.random.randn(3)\n",
    "print(vec3)\n",
    "# stack vec2 and vec3 to obtain a matrix of shape (2,3) np.stack:按照新轴连接数组的序列\n",
    "stacked1 = np.stack([vec2, vec3])  # 按照轴 0 连接 vec2 和 vec3\n",
    "stacked2 = np.hstack([vec2, vec3])  # 按顺序水平堆叠数组（按列排列）,不要看pycharm\n",
    "stacked2_1 = np.stack([vec2, vec3], axis=1)  # 按照轴 1 连接 vec2 和 vec3\n",
    "stacked3 = np.vstack([vec2, vec3])  # 按顺序垂直（按行）堆叠数组\n",
    "stacked3_1 = np.stack([vec2, vec3], axis=0)  # 按照轴 0 连接 vec2 和 vec3\n",
    "\n",
    "print(vec2, vec3)\n",
    "print(vec2.shape)\n",
    "print(stacked1.shape)\n",
    "print('stack堆叠，stacked1:', stacked1)\n",
    "print('hstack水平堆叠，stacked2:', stacked2)\n",
    "print('vstack垂直堆叠，stacked3:', stacked3)\n",
    "\n",
    "# stack mat2 and vec2 to obtain a matrix of shape (4,3)\n",
    "concatenated1 =  np.vstack([mat2, vec2[None]])  # vec2[None, :] 会在第一个维度上增加一个新的轴，结果形状为 (1, 4)\n",
    "# stack mat2 and vec2 to obtain a matrix of shape (3,4)\n",
    "concatenated2 =  np.hstack([mat2, vec2[:,None]])  # vec2[:, None] 会在第二个维度上增加一个新的轴，结果形状为 (4, 1)\n",
    "print(stacked1.shape) # display the matrix dimension of stacked1\n",
    "\n",
    "print('vec2[None]', vec2[None])\n",
    "print('vec2[:,None]', vec2[:,None])"
   ],
   "id": "8cbd95f4bb910a6",
   "outputs": [
    {
     "name": "stdout",
     "output_type": "stream",
     "text": [
      "[ 0.97288705 -0.72992034 -1.32926631]\n",
      "[ 0.99127107  1.09213008 -0.26372463] [ 0.97288705 -0.72992034 -1.32926631]\n",
      "(3,)\n",
      "(2, 3)\n",
      "stack堆叠，stacked1: [[ 0.99127107  1.09213008 -0.26372463]\n",
      " [ 0.97288705 -0.72992034 -1.32926631]]\n",
      "hstack水平堆叠，stacked2: [ 0.99127107  1.09213008 -0.26372463  0.97288705 -0.72992034 -1.32926631]\n",
      "vstack垂直堆叠，stacked3: [[ 0.99127107  1.09213008 -0.26372463]\n",
      " [ 0.97288705 -0.72992034 -1.32926631]]\n",
      "(2, 3)\n",
      "vec2[None] [[ 0.99127107  1.09213008 -0.26372463]]\n",
      "vec2[:,None] [[ 0.99127107]\n",
      " [ 1.09213008]\n",
      " [-0.26372463]]\n"
     ]
    }
   ],
   "execution_count": 36
  },
  {
   "metadata": {},
   "cell_type": "code",
   "outputs": [],
   "execution_count": null,
   "source": [
    "mat = np.diag([0.1, 0.2, 0.3]) # set diagonal matrix\n",
    "mat_inv = np.linalg.inv(mat) # matrix inversion\n",
    "\n",
    "# # Let's make it not invertible by changing the last entry to 0\n",
    "# mat[-1,-1] = 0.\n",
    "\n",
    "# Let's check if the matrix is invertible (without inverting it)\n",
    "is_invertible = np.linalg.det(mat) != 0.\n",
    "\n",
    "# Pseudoinverses of mat\n",
    "mat1_pinv = np.linalg.inv(mat.T @ mat) @ mat.T # using inv(A.T @ A) @ A.T\n",
    "mat2_pinv = np.linalg.pinv(mat) # using np.linalg.pinv()\n",
    "\n",
    "#Compare the two solutions\n",
    "diff = np.linalg.norm(mat1_pinv - mat2_pinv, ord='fro')\n",
    "\n",
    "print(is_invertible)\n",
    "print(diff) # diff should be almost zero"
   ],
   "id": "6ea9d246359f4307"
  }
 ],
 "metadata": {
  "kernelspec": {
   "display_name": "Python 3",
   "language": "python",
   "name": "python3"
  },
  "language_info": {
   "codemirror_mode": {
    "name": "ipython",
    "version": 2
   },
   "file_extension": ".py",
   "mimetype": "text/x-python",
   "name": "python",
   "nbconvert_exporter": "python",
   "pygments_lexer": "ipython2",
   "version": "2.7.6"
  }
 },
 "nbformat": 4,
 "nbformat_minor": 5
}
