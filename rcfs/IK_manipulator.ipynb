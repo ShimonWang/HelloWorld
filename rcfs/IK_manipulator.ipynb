{
 "cells": [
  {
   "cell_type": "code",
   "id": "initial_id",
   "metadata": {
    "collapsed": true,
    "ExecuteTime": {
     "end_time": "2025-01-05T11:49:13.589937Z",
     "start_time": "2025-01-05T11:49:13.525530Z"
    }
   },
   "source": [
    "import numpy as np\n",
    "\n",
    "param = lambda: None # Lazy way to define an empty class in python # 在 python 中定义空类的简单方法\n",
    "param.dt = 1e-2 # Time step length # 时间步长度\n",
    "param.nbData = 50 # Number of datapoints # 数据点数量\n",
    "param.nbVarX = 3 # State space dimension (x1,x2,x3) # 状态空间维度\n",
    "param.nbVarU = 3 # Control space dimension (dx1,dx2,dx3) # 控制空间维度\n",
    "param.nbVarF = 3 # Objective function dimension (position and orientation of the end-effector) # 任务空间维度\n",
    "param.l = [2, 2, 1] # Robot links lengths # 机器人关节长度"
   ],
   "outputs": [],
   "execution_count": 3
  },
  {
   "metadata": {
    "ExecuteTime": {
     "end_time": "2025-01-05T11:50:32.986775Z",
     "start_time": "2025-01-05T11:50:32.982724Z"
    }
   },
   "cell_type": "code",
   "source": [
    "L = np.tril(np.ones([param.nbVarX, param.nbVarX]))\n",
    "\n",
    "fh = np.array([3, 1, -np.pi/2]) # Desired target for the end-effector (position and orientation) # 末端执行器的预期目标（位置和方向）\n",
    "x = -np.ones(param.nbVarX) * np.pi / param.nbVarX # Initial robot pose # 机器人初始位姿(-1/3*pi，1/3*pi, -1/3*pi)\n",
    "x[0] = x[0] + np.pi  # (2/3*pi, -1/3*pi, -1/3*pi)\n",
    "print('x(degree):', x/np.pi*180)\n",
    "print(L@x)\n",
    "param.l @ np.cos(L @ x),"
   ],
   "id": "76c4cf65ee126e17",
   "outputs": [
    {
     "name": "stdout",
     "output_type": "stream",
     "text": [
      "x(degree): [120. -60. -60.]\n",
      "[2.09439510e+00 1.04719755e+00 4.44089210e-16]\n"
     ]
    },
    {
     "data": {
      "text/plain": [
       "(np.float64(0.999999999999999),)"
      ]
     },
     "execution_count": 5,
     "metadata": {},
     "output_type": "execute_result"
    }
   ],
   "execution_count": 5
  },
  {
   "metadata": {
    "ExecuteTime": {
     "end_time": "2025-01-06T08:53:24.921018Z",
     "start_time": "2025-01-06T08:53:24.918464Z"
    }
   },
   "cell_type": "code",
   "source": "[i for i in range(10)]",
   "id": "b1561f9fc3d401ad",
   "outputs": [
    {
     "data": {
      "text/plain": [
       "[0, 1, 2, 3, 4, 5, 6, 7, 8, 9]"
      ]
     },
     "execution_count": 15,
     "metadata": {},
     "output_type": "execute_result"
    }
   ],
   "execution_count": 15
  },
  {
   "metadata": {},
   "cell_type": "code",
   "outputs": [],
   "execution_count": null,
   "source": "",
   "id": "9b554707e8bf3428"
  }
 ],
 "metadata": {
  "kernelspec": {
   "display_name": "Python 3",
   "language": "python",
   "name": "python3"
  },
  "language_info": {
   "codemirror_mode": {
    "name": "ipython",
    "version": 2
   },
   "file_extension": ".py",
   "mimetype": "text/x-python",
   "name": "python",
   "nbconvert_exporter": "python",
   "pygments_lexer": "ipython2",
   "version": "2.7.6"
  }
 },
 "nbformat": 4,
 "nbformat_minor": 5
}
