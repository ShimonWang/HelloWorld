{
 "cells": [
  {
   "cell_type": "code",
   "id": "initial_id",
   "metadata": {
    "collapsed": true,
    "ExecuteTime": {
     "end_time": "2025-02-18T13:03:24.470800Z",
     "start_time": "2025-02-18T13:03:24.388733Z"
    }
   },
   "source": [
    "# Initialization\n",
    "x = [-np.pi/4, np.pi/2, np.pi/4] # Initial robot state\n",
    "\n",
    "# Control loop definition\n",
    "def control(x, param):\n",
    "    f = fkin(x, param)  # param:parameter 参数\n",
    "    J = Jkin(x, param)\n",
    "\n",
    "    print('\\n f:',f)\n",
    "    print('J:',J)\n",
    "    u = np.linalg.pinv(J) @ logmap(param.Mu, f) # Position & orientation tracking\n",
    "    print('u:', u)\n",
    "    u1 = np.linalg.pinv(J[:2,:]) @ (param.Mu[:2] - f[:2]) # Position tracking\n",
    "    print('u1:', u1)\n",
    "    u2 = np.linalg.pinv(J[2:,:]) @ (param.Mu[2:] - f[2:]) # Orientation tracking\n",
    "    print('u2:', u2)\n",
    "    # u = J.T @ logmap(param.Mu, f) * 1E-4 # Gradient-based tracking\n",
    "    # u = np.zeros(param.nbVarX) # Zero control commands\n",
    "\n",
    "    return 0.1 * u / param.dt   # Velocity in rad/s"
   ],
   "outputs": [
    {
     "ename": "NameError",
     "evalue": "name 'np' is not defined",
     "output_type": "error",
     "traceback": [
      "\u001B[0;31m---------------------------------------------------------------------------\u001B[0m",
      "\u001B[0;31mNameError\u001B[0m                                 Traceback (most recent call last)",
      "Cell \u001B[0;32mIn[1], line 2\u001B[0m\n\u001B[1;32m      1\u001B[0m \u001B[38;5;66;03m# Initialization\u001B[39;00m\n\u001B[0;32m----> 2\u001B[0m x \u001B[38;5;241m=\u001B[39m [\u001B[38;5;241m-\u001B[39m\u001B[43mnp\u001B[49m\u001B[38;5;241m.\u001B[39mpi\u001B[38;5;241m/\u001B[39m\u001B[38;5;241m4\u001B[39m, np\u001B[38;5;241m.\u001B[39mpi\u001B[38;5;241m/\u001B[39m\u001B[38;5;241m2\u001B[39m, np\u001B[38;5;241m.\u001B[39mpi\u001B[38;5;241m/\u001B[39m\u001B[38;5;241m4\u001B[39m] \u001B[38;5;66;03m# Initial robot state\u001B[39;00m\n\u001B[1;32m      4\u001B[0m \u001B[38;5;66;03m# Control loop definition\u001B[39;00m\n\u001B[1;32m      5\u001B[0m \u001B[38;5;28;01mdef\u001B[39;00m\u001B[38;5;250m \u001B[39m\u001B[38;5;21mcontrol\u001B[39m(x, param):\n",
      "\u001B[0;31mNameError\u001B[0m: name 'np' is not defined"
     ]
    }
   ],
   "execution_count": 1
  },
  {
   "metadata": {
    "ExecuteTime": {
     "end_time": "2025-02-18T13:20:12.909101Z",
     "start_time": "2025-02-18T13:20:12.896410Z"
    }
   },
   "cell_type": "code",
   "source": [
    "# Initialization\n",
    "x = [-np.pi/4, np.pi/2, np.pi/4] # Initial robot state\n",
    "\n",
    "# Control loop definition\n",
    "def control(x, param):\n",
    "    f = fkin(x, param)\n",
    "    J = Jkin(x, param)\n",
    "\n",
    "    print('\\n f:',f)\n",
    "    print('J:',J)\n",
    "    pinvJ = np.linalg.inv(J.T @ J + np.eye(param.nbVarX) * 1E1) @ J.T # Damped pseudoinverse 阻尼伪逆\n",
    "    # array([[10.,  0.,  0.],\n",
    "    #       [ 0., 10.,  0.],\n",
    "    #       [ 0.,  0., 10.]])\n",
    "    print(np.eye(param.nbVarX)*1E1)\n",
    "    u = pinvJ @ logmap(param.Mu, f) # Position & orientation tracking\n",
    "    print(u)\n",
    "\n",
    "    return 0.1 * u / param.dt   # Velocity in rad/s"
   ],
   "id": "9fb216503ef4f771",
   "outputs": [
    {
     "ename": "NameError",
     "evalue": "name 'np' is not defined",
     "output_type": "error",
     "traceback": [
      "\u001B[0;31m---------------------------------------------------------------------------\u001B[0m",
      "\u001B[0;31mNameError\u001B[0m                                 Traceback (most recent call last)",
      "Cell \u001B[0;32mIn[2], line 2\u001B[0m\n\u001B[1;32m      1\u001B[0m \u001B[38;5;66;03m# Initialization\u001B[39;00m\n\u001B[0;32m----> 2\u001B[0m x \u001B[38;5;241m=\u001B[39m [\u001B[38;5;241m-\u001B[39m\u001B[43mnp\u001B[49m\u001B[38;5;241m.\u001B[39mpi\u001B[38;5;241m/\u001B[39m\u001B[38;5;241m4\u001B[39m, np\u001B[38;5;241m.\u001B[39mpi\u001B[38;5;241m/\u001B[39m\u001B[38;5;241m2\u001B[39m, np\u001B[38;5;241m.\u001B[39mpi\u001B[38;5;241m/\u001B[39m\u001B[38;5;241m4\u001B[39m] \u001B[38;5;66;03m# Initial robot state\u001B[39;00m\n\u001B[1;32m      4\u001B[0m \u001B[38;5;66;03m# Control loop definition\u001B[39;00m\n\u001B[1;32m      5\u001B[0m \u001B[38;5;28;01mdef\u001B[39;00m\u001B[38;5;250m \u001B[39m\u001B[38;5;21mcontrol\u001B[39m(x, param):\n",
      "\u001B[0;31mNameError\u001B[0m: name 'np' is not defined"
     ]
    }
   ],
   "execution_count": 2
  },
  {
   "metadata": {
    "ExecuteTime": {
     "end_time": "2025-02-18T13:20:26.234970Z",
     "start_time": "2025-02-18T13:20:26.230084Z"
    }
   },
   "cell_type": "code",
   "source": "1E-2",
   "id": "3b475d25b1ad1873",
   "outputs": [
    {
     "data": {
      "text/plain": [
       "0.01"
      ]
     },
     "execution_count": 3,
     "metadata": {},
     "output_type": "execute_result"
    }
   ],
   "execution_count": 3
  },
  {
   "metadata": {
    "ExecuteTime": {
     "end_time": "2025-02-18T13:31:10.070711Z",
     "start_time": "2025-02-18T13:31:10.061405Z"
    }
   },
   "cell_type": "code",
   "source": [
    "# Initialization\n",
    "x = [-np.pi/4, np.pi/2, np.pi/4] # Initial robot state\n",
    "\n",
    "# Control loop definition\n",
    "def control(x, param):\n",
    "    f = fkin(x, param)\n",
    "    J = Jkin(x, param)\n",
    "\n",
    "    # Weights in task space\n",
    "    Wf = np.diag([1, 1, 0])  # 优先跟踪第一，第二关节\n",
    "    pinvWJ = np.linalg.inv(J.T @ Wf @ J + np.eye(param.nbVarX) * 1E-2) @ J.T @ Wf # Weighted pseudoinverse  # 只迭代position\n",
    "    u = pinvWJ @ logmap(param.Mu, f) # Position & orientation tracking\n",
    "\n",
    "    # # Weights in configuration space\n",
    "    # Wx = np.diag([0.01, 1, 1])\n",
    "    # pinvWJ =  Wx @ J[:2,:].T @ np.linalg.inv(J[:2,:] @ Wx @ J[:2,:].T + np.eye(2) * 1E-2) # Weighted pseudoinverse\n",
    "    # u = pinvWJ @ (param.Mu[:2] - f[:2]) # Position tracking\n",
    "\n",
    "    return 0.1 * u / param.dt   # Velocity in rad/s"
   ],
   "id": "423c679a6e771511",
   "outputs": [
    {
     "ename": "NameError",
     "evalue": "name 'np' is not defined",
     "output_type": "error",
     "traceback": [
      "\u001B[0;31m---------------------------------------------------------------------------\u001B[0m",
      "\u001B[0;31mNameError\u001B[0m                                 Traceback (most recent call last)",
      "Cell \u001B[0;32mIn[4], line 2\u001B[0m\n\u001B[1;32m      1\u001B[0m \u001B[38;5;66;03m# Initialization\u001B[39;00m\n\u001B[0;32m----> 2\u001B[0m x \u001B[38;5;241m=\u001B[39m [\u001B[38;5;241m-\u001B[39m\u001B[43mnp\u001B[49m\u001B[38;5;241m.\u001B[39mpi\u001B[38;5;241m/\u001B[39m\u001B[38;5;241m4\u001B[39m, np\u001B[38;5;241m.\u001B[39mpi\u001B[38;5;241m/\u001B[39m\u001B[38;5;241m2\u001B[39m, np\u001B[38;5;241m.\u001B[39mpi\u001B[38;5;241m/\u001B[39m\u001B[38;5;241m4\u001B[39m] \u001B[38;5;66;03m# Initial robot state\u001B[39;00m\n\u001B[1;32m      4\u001B[0m \u001B[38;5;66;03m# Control loop definition\u001B[39;00m\n\u001B[1;32m      5\u001B[0m \u001B[38;5;28;01mdef\u001B[39;00m\u001B[38;5;250m \u001B[39m\u001B[38;5;21mcontrol\u001B[39m(x, param):\n",
      "\u001B[0;31mNameError\u001B[0m: name 'np' is not defined"
     ]
    }
   ],
   "execution_count": 4
  },
  {
   "metadata": {},
   "cell_type": "code",
   "outputs": [],
   "execution_count": null,
   "source": [
    "# Initialization\n",
    "x = np.array([-np.pi/4, np.pi/2, np.pi/4]) # Initial robot pose\n",
    "xh = np.array([-np.pi/4, np.pi/2, np.pi/4]) # Preferred robot pose\n",
    "\n",
    "# Control loop definition\n",
    "def control(x, param):\n",
    "    f = fkin(x, param)\n",
    "    J = Jkin(x, param)\n",
    "\n",
    "    # Prioritized tracking with motion of first joint as secondary task # 优先跟踪，第一关节运动作为次要任务\n",
    "    u1 = np.linalg.pinv(J[:2,:]) @ (param.Mu[:2] - f[:2]) # Position tracking\n",
    "    N = np.eye(param.nbVarX) - np.linalg.pinv(J[:2,:]) @ J[:2,:] # Nullspace projection matrix\n",
    "    u = u1 + N @ [1, 0, 0] # Control commands\n",
    "\n",
    "    # # Prioritized tracking with preferred pose maintenance as secondary task # 优先跟踪，首选姿势维护为次要任务\n",
    "    # u1 = np.linalg.pinv(J[:2,:]) @ (param.Mu[:2] - f[:2]) # Position tracking\n",
    "    # N = np.eye(param.nbVarX) - np.linalg.pinv(J[:2,:]) @ J[:2,:] # Nullspace projection matrix\n",
    "    # u = u1 + N @ (xh - x) # Control commands\n",
    "\n",
    "    # # Prioritized control (position tracking prioritized over orientation tracking) # 优先控制（位置跟踪优先于方向跟踪）\n",
    "    # dfp = (param.Mu[:2] - f[:2]) * 10 # Position correction\n",
    "    # dfo = (param.Mu[2:] - f[2:]) * 10 # Orientation correction\n",
    "    # Jp = J[:2,:] # Jacobian for position\n",
    "    # Jo = J[2:,:] # Jacobian for orientation\n",
    "    # pinvJp = np.linalg.inv(Jp.T @ Jp + np.eye(param.nbVarX) * 1e-2) @ Jp.T # Damped pseudoinverse\n",
    "    # Np = np.eye(param.nbVarX) - pinvJp @ Jp # Nullspace projection operator\n",
    "    # up = pinvJp @ dfp # Command for position tracking\n",
    "    # JoNp = Jo @ Np\n",
    "    # pinvJoNp = JoNp.T @ np.linalg.inv(JoNp @ JoNp.T + np.eye(1) * 1e1) # Damped pseudoinverse\n",
    "    # uo = pinvJoNp @ (dfo - Jo @ up) # Command for orientation tracking (with position tracking prioritized) # 定向跟踪命令（优先考虑位置跟踪）\n",
    "    # u = up + Np @ uo # Control commands\n",
    "\n",
    "    return 0.1 * u / param.dt   # Velocity in rad/s"
   ],
   "id": "f6d9c1cd2e5e4261"
  }
 ],
 "metadata": {
  "kernelspec": {
   "display_name": "Python 3",
   "language": "python",
   "name": "python3"
  },
  "language_info": {
   "codemirror_mode": {
    "name": "ipython",
    "version": 2
   },
   "file_extension": ".py",
   "mimetype": "text/x-python",
   "name": "python",
   "nbconvert_exporter": "python",
   "pygments_lexer": "ipython2",
   "version": "2.7.6"
  }
 },
 "nbformat": 4,
 "nbformat_minor": 5
}
