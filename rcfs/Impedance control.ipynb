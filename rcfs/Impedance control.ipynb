{
 "cells": [
  {
   "cell_type": "code",
   "id": "initial_id",
   "metadata": {
    "collapsed": true,
    "ExecuteTime": {
     "end_time": "2025-02-19T12:59:54.724226Z",
     "start_time": "2025-02-19T12:59:54.644886Z"
    }
   },
   "source": [
    "# Initialization\n",
    "#x = np.array([-np.pi/4, -np.pi/2, np.pi/4, 0, 0, 0]) # Initial robot pose\n",
    "x_target = np.array([-np.pi/4, -np.pi/2, np.pi/4]) # Target in joint space\n",
    "\n",
    "param.damping = 20.0 # Viscous friction\n",
    "\n",
    "#kP = 400.0 # Stiffness gain\n",
    "#kV = 10.0 # Damping gain\n",
    "\n",
    "KP = np.diag([4E2, 4E2, 4E2]) # Joint space stiffness matrix\n",
    "KV = np.diag([1E1, 1E1, 1E1]) # Joint space damping matrix\n",
    "\n",
    "# Control loop definition\n",
    "def control(x, param):\n",
    "    # Torques for gravity compensation\n",
    "    #ug = inverse_dynamics(np.append(x[:param.nbVarX], np.zeros(param.nbVarX)), np.zeros(param.nbVarX), param)\n",
    "    ug = inverse_dynamics(x, np.zeros(param.nbVarX), param) # Torques for gravity and Coriolis force compensation # 科里奥利\n",
    "    #u = kP * (x_target - x[:param.nbVarX]) - kV * x[param.nbVarX:] + ug # Impedance controller in joint space\n",
    "    u = KP @ (x_target - x[:param.nbVarX]) - KV @ x[param.nbVarX:] + ug # Impedance controller in joint space\n",
    "    return u"
   ],
   "outputs": [
    {
     "ename": "NameError",
     "evalue": "name 'np' is not defined",
     "output_type": "error",
     "traceback": [
      "\u001B[0;31m---------------------------------------------------------------------------\u001B[0m",
      "\u001B[0;31mNameError\u001B[0m                                 Traceback (most recent call last)",
      "Cell \u001B[0;32mIn[1], line 3\u001B[0m\n\u001B[1;32m      1\u001B[0m \u001B[38;5;66;03m# Initialization\u001B[39;00m\n\u001B[1;32m      2\u001B[0m \u001B[38;5;66;03m#x = np.array([-np.pi/4, -np.pi/2, np.pi/4, 0, 0, 0]) # Initial robot pose\u001B[39;00m\n\u001B[0;32m----> 3\u001B[0m x_target \u001B[38;5;241m=\u001B[39m \u001B[43mnp\u001B[49m\u001B[38;5;241m.\u001B[39marray([\u001B[38;5;241m-\u001B[39mnp\u001B[38;5;241m.\u001B[39mpi\u001B[38;5;241m/\u001B[39m\u001B[38;5;241m4\u001B[39m, \u001B[38;5;241m-\u001B[39mnp\u001B[38;5;241m.\u001B[39mpi\u001B[38;5;241m/\u001B[39m\u001B[38;5;241m2\u001B[39m, np\u001B[38;5;241m.\u001B[39mpi\u001B[38;5;241m/\u001B[39m\u001B[38;5;241m4\u001B[39m]) \u001B[38;5;66;03m# Target in joint space\u001B[39;00m\n\u001B[1;32m      5\u001B[0m param\u001B[38;5;241m.\u001B[39mdamping \u001B[38;5;241m=\u001B[39m \u001B[38;5;241m20.0\u001B[39m \u001B[38;5;66;03m# Viscous friction\u001B[39;00m\n\u001B[1;32m      7\u001B[0m \u001B[38;5;66;03m#kP = 400.0 # Stiffness gain\u001B[39;00m\n\u001B[1;32m      8\u001B[0m \u001B[38;5;66;03m#kV = 10.0 # Damping gain\u001B[39;00m\n",
      "\u001B[0;31mNameError\u001B[0m: name 'np' is not defined"
     ]
    }
   ],
   "execution_count": 1
  },
  {
   "metadata": {
    "ExecuteTime": {
     "end_time": "2025-02-19T13:08:08.472134Z",
     "start_time": "2025-02-19T13:08:08.422075Z"
    }
   },
   "cell_type": "code",
   "source": [
    "import numpy as np\n",
    "x = np.array([-np.pi/4, -np.pi/2, np.pi/4, 0, 0, 0]) # Initial robot pose\n",
    "\n",
    "dist_target = 100.0 # Targeted distance to maintain\n",
    "f_target = np.array([-200.0, -400.0, 0]) # SDF location in task space # Signed Distance Function (SDF)\n",
    "sdf_disc_radius = 80.0 # Disc radius # 圆盘\n",
    "sdf_box_size = np.array([160.0, 100.0]) # Box width and height\n",
    "sdf_box_offset = np.array([60.0, -60.0]) # Box position wrt the disc # wrt: with regard to\n",
    "sdf_smoothing_ratio = 10.0 # Smoothing factor for softmax composition of SDF shapes # softmax:柔性最大值传输函数\n",
    "\n",
    "KP = np.diag([4E-2, 0E-2, 0E3]) # Task space stiffness (position and orientation)\n",
    "KP0 = np.copy(KP)\n",
    "KV = np.diag([1E-3, 1E-3, 1E1]) # Task space damping (position and orientation)\n",
    "\n",
    "def control(x, param):\n",
    "    global KP\n",
    "    ug = inverse_dynamics(x, np.zeros(param.nbVarX), param) # Torques for gravity and Coriolis force compensation\n",
    "    f = fkin(x[:param.nbVarX], param) # Forward kinematics\n",
    "    J = Jkin(x[:param.nbVarX], param) # Corresponding Jacobian matrix\n",
    "    df = J @ x[param.nbVarX:] # End-effector velocity\n",
    "    dist, grad = sdf(f) # Signed distance function and corresponding gradient\n",
    "    R = np.array([[grad[0], -grad[1]], [grad[1], grad[0]]]) # Local coordinate system (rotation matrix)\n",
    "    KP[:2,:2] = R @ KP0[:2,:2] @ R.T # Adapt stiffness to local coordinate system\n",
    "    grad[:2] = grad[:2] * (dist - dist_target) # Residual vector\n",
    "    u = J.T @ (KP @ grad - KV @ df) + ug # Impedance controller in task space\n",
    "    return u"
   ],
   "id": "9cccb7b9ae0c296",
   "outputs": [],
   "execution_count": 2
  },
  {
   "metadata": {
    "ExecuteTime": {
     "end_time": "2025-02-19T13:11:10.317220Z",
     "start_time": "2025-02-19T13:11:10.314561Z"
    }
   },
   "cell_type": "code",
   "source": [
    "import numpy as np\n",
    "\n",
    "n1 = np.array([1,2,3])\n",
    "n2 = n1\n",
    "\n",
    "n3 = n1.copy()\n",
    "n4 = np.copy(n1)\n",
    "n1[0] = 0\n",
    "print(n1)\n",
    "print(n2)\n",
    "print(n3)\n",
    "print(n4)\n",
    "print(id(n1))\n",
    "print(id(n2))\n",
    "print(id(n3))\n",
    "print(id(n4))"
   ],
   "id": "9523f141fe7658b3",
   "outputs": [
    {
     "name": "stdout",
     "output_type": "stream",
     "text": [
      "[0 2 3]\n",
      "[0 2 3]\n",
      "[1 2 3]\n",
      "[1 2 3]\n",
      "140243114410128\n",
      "140243114410128\n",
      "140243114411760\n",
      "140243114411088\n"
     ]
    }
   ],
   "execution_count": 7
  },
  {
   "metadata": {},
   "cell_type": "code",
   "outputs": [],
   "execution_count": null,
   "source": "",
   "id": "4eba7b0470c1276d"
  }
 ],
 "metadata": {
  "kernelspec": {
   "display_name": "Python 3",
   "language": "python",
   "name": "python3"
  },
  "language_info": {
   "codemirror_mode": {
    "name": "ipython",
    "version": 2
   },
   "file_extension": ".py",
   "mimetype": "text/x-python",
   "name": "python",
   "nbconvert_exporter": "python",
   "pygments_lexer": "ipython2",
   "version": "2.7.6"
  }
 },
 "nbformat": 4,
 "nbformat_minor": 5
}
