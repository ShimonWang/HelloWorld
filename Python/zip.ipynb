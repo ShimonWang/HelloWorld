{
 "cells": [
  {
   "metadata": {},
   "cell_type": "markdown",
   "source": "摘自 https://www.freecodecamp.org/chinese/news/python-zip-zip-function-in-python/",
   "id": "ad4fbf5d859798ee"
  },
  {
   "metadata": {},
   "cell_type": "code",
   "outputs": [
    {
     "name": "stdout",
     "output_type": "stream",
     "text": [
      "<zip object at 0x7fb99e67e9c0>\n"
     ]
    }
   ],
   "execution_count": 11,
   "source": [
    "names = (\"John\", \"Jane\", \"Jade\")\n",
    "ages = (2, 4, 6)\n",
    "\n",
    "print(zip(names, ages))"
   ],
   "id": "initial_id"
  },
  {
   "metadata": {
    "ExecuteTime": {
     "end_time": "2025-05-27T13:18:29.847298Z",
     "start_time": "2025-05-27T13:18:29.844601Z"
    }
   },
   "cell_type": "code",
   "source": [
    "names = (\"John\", \"Jane\", \"Jade\")\n",
    "ages = (2, 4, 6)\n",
    "\n",
    "zipped = zip(names, ages)\n",
    "\n",
    "print(tuple(zipped))"
   ],
   "id": "dc645b282d1d9d9",
   "outputs": [
    {
     "name": "stdout",
     "output_type": "stream",
     "text": [
      "(('John', 2), ('Jane', 4), ('Jade', 6))\n"
     ]
    }
   ],
   "execution_count": 12
  },
  {
   "metadata": {
    "ExecuteTime": {
     "end_time": "2025-05-27T13:18:51.264237Z",
     "start_time": "2025-05-27T13:18:51.261745Z"
    }
   },
   "cell_type": "code",
   "source": [
    "names = (\"John\", \"Jane\", \"Jade\")\n",
    "ages = (2, 4, 6)\n",
    "\n",
    "zipped = zip(names, ages)\n",
    "\n",
    "print(list(zipped))"
   ],
   "id": "8f439cf061d203e1",
   "outputs": [
    {
     "name": "stdout",
     "output_type": "stream",
     "text": [
      "[('John', 2), ('Jane', 4), ('Jade', 6)]\n"
     ]
    }
   ],
   "execution_count": 13
  },
  {
   "metadata": {
    "ExecuteTime": {
     "end_time": "2025-05-27T13:20:55.718876Z",
     "start_time": "2025-05-27T13:20:55.716221Z"
    }
   },
   "cell_type": "code",
   "source": [
    "names = (\"John\", \"Jane\", \"Jade\", \"John\")\n",
    "ages = (2, 4, 6)\n",
    "\n",
    "zipped = zip(names, ages)\n",
    "\n",
    "for(x,y) in zipped:\n",
    "    print(x,y)"
   ],
   "id": "9df73786a9b4bcf1",
   "outputs": [
    {
     "name": "stdout",
     "output_type": "stream",
     "text": [
      "John 2\n",
      "Jane 4\n",
      "Jade 6\n"
     ]
    }
   ],
   "execution_count": 15
  },
  {
   "metadata": {
    "ExecuteTime": {
     "end_time": "2025-05-27T13:21:16.263125Z",
     "start_time": "2025-05-27T13:21:16.257841Z"
    }
   },
   "cell_type": "code",
   "source": [
    "names = (\"John\", \"Jane\", \"Jade\", \"John\")\n",
    "ages = (2, 4, 6)\n",
    "\n",
    "zipped = zip(names, ages)\n",
    "\n",
    "for x,y in zipped:\n",
    "    print(x,y)"
   ],
   "id": "8cafd824b1a879d6",
   "outputs": [
    {
     "name": "stdout",
     "output_type": "stream",
     "text": [
      "John 2\n",
      "Jane 4\n",
      "Jade 6\n"
     ]
    }
   ],
   "execution_count": 16
  }
 ],
 "metadata": {
  "kernelspec": {
   "display_name": "Python 3",
   "language": "python",
   "name": "python3"
  },
  "language_info": {
   "codemirror_mode": {
    "name": "ipython",
    "version": 2
   },
   "file_extension": ".py",
   "mimetype": "text/x-python",
   "name": "python",
   "nbconvert_exporter": "python",
   "pygments_lexer": "ipython2",
   "version": "2.7.6"
  }
 },
 "nbformat": 4,
 "nbformat_minor": 5
}
