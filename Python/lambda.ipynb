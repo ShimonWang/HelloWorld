{
 "cells": [
  {
   "cell_type": "code",
   "id": "initial_id",
   "metadata": {
    "collapsed": true,
    "ExecuteTime": {
     "end_time": "2025-08-14T04:18:56.320762Z",
     "start_time": "2025-08-14T04:18:56.311809Z"
    }
   },
   "source": [
    "# lambda arguments: expression\n",
    "\n",
    "f = lambda : \"Hello, world!\"\n",
    "print(f())\n",
    "print(type(f))"
   ],
   "outputs": [
    {
     "name": "stdout",
     "output_type": "stream",
     "text": [
      "Hello, world!\n",
      "<class 'function'>\n"
     ]
    }
   ],
   "execution_count": 6
  },
  {
   "metadata": {
    "ExecuteTime": {
     "end_time": "2025-08-14T04:19:20.051042Z",
     "start_time": "2025-08-14T04:19:20.032377Z"
    }
   },
   "cell_type": "code",
   "source": [
    "x = lambda a : a + 10\n",
    "print(x(5))"
   ],
   "id": "9c850c4f6deb593e",
   "outputs": [
    {
     "name": "stdout",
     "output_type": "stream",
     "text": [
      "15\n"
     ]
    }
   ],
   "execution_count": 8
  },
  {
   "metadata": {
    "ExecuteTime": {
     "end_time": "2025-08-14T04:20:49.550773Z",
     "start_time": "2025-08-14T04:20:49.539767Z"
    }
   },
   "cell_type": "code",
   "source": [
    "x = lambda a, b, c : a + b + c\n",
    "print(x(5, 6, 2))"
   ],
   "id": "eb481c927f2be563",
   "outputs": [
    {
     "name": "stdout",
     "output_type": "stream",
     "text": [
      "13\n"
     ]
    }
   ],
   "execution_count": 9
  },
  {
   "metadata": {},
   "cell_type": "code",
   "outputs": [],
   "execution_count": null,
   "source": "",
   "id": "d8766a061bcfd328"
  }
 ],
 "metadata": {
  "kernelspec": {
   "display_name": "Python 3",
   "language": "python",
   "name": "python3"
  },
  "language_info": {
   "codemirror_mode": {
    "name": "ipython",
    "version": 2
   },
   "file_extension": ".py",
   "mimetype": "text/x-python",
   "name": "python",
   "nbconvert_exporter": "python",
   "pygments_lexer": "ipython2",
   "version": "2.7.6"
  }
 },
 "nbformat": 4,
 "nbformat_minor": 5
}
