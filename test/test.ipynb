{
 "cells": [
  {
   "cell_type": "code",
   "id": "initial_id",
   "metadata": {
    "collapsed": true,
    "ExecuteTime": {
     "end_time": "2024-10-31T04:42:08.680666Z",
     "start_time": "2024-10-31T04:42:08.678116Z"
    }
   },
   "source": [
    "import numpy as np\n",
    "from numpy.ma.core import shape\n",
    "\n",
    "T = np.linspace(0, 1, 10)"
   ],
   "outputs": [],
   "execution_count": 2
  },
  {
   "metadata": {
    "ExecuteTime": {
     "end_time": "2024-10-31T04:43:44.616670Z",
     "start_time": "2024-10-31T04:43:44.612394Z"
    }
   },
   "cell_type": "code",
   "source": "T",
   "id": "3b53519659aa1445",
   "outputs": [
    {
     "data": {
      "text/plain": [
       "array([0.        , 0.11111111, 0.22222222, 0.33333333, 0.44444444,\n",
       "       0.55555556, 0.66666667, 0.77777778, 0.88888889, 1.        ])"
      ]
     },
     "execution_count": 6,
     "metadata": {},
     "output_type": "execute_result"
    }
   ],
   "execution_count": 6
  },
  {
   "metadata": {
    "ExecuteTime": {
     "end_time": "2024-10-31T04:43:34.704270Z",
     "start_time": "2024-10-31T04:43:34.701982Z"
    }
   },
   "cell_type": "code",
   "outputs": [
    {
     "name": "stdout",
     "output_type": "stream",
     "text": [
      "[0.         0.11111111 0.22222222 0.33333333 0.44444444 0.55555556\n",
      " 0.66666667 0.77777778 0.88888889 1.        ]\n",
      "<class 'numpy.ndarray'>\n"
     ]
    }
   ],
   "execution_count": 5,
   "source": [
    "print(T)\n",
    "print(type(T))"
   ],
   "id": "215be31afb62711a"
  },
  {
   "metadata": {
    "ExecuteTime": {
     "end_time": "2024-10-31T06:05:42.741879Z",
     "start_time": "2024-10-31T06:05:42.737725Z"
    }
   },
   "cell_type": "code",
   "source": [
    "Y = np.zeros((1001, 14))\n",
    "T = np.linspace(0, 1, len(Y))\n",
    "sigmoid = 0.5 * (np.tanh(1.5 * np.pi * (T - 0.5)) + 1.0)\n",
    "radius = 0.5\n",
    "circle1 = radius * np.cos(np.deg2rad(90) + np.deg2rad(90) * sigmoid)\n",
    "circle2 = radius * np.sin(np.deg2rad(90) + np.deg2rad(90) * sigmoid)\n",
    "print(T)\n",
    "print(Y)\n",
    "print(sigmoid)\n",
    "print(radius)\n",
    "print(\"circle1:\", circle1)\n",
    "print(\"circle2:\", circle2)"
   ],
   "id": "7619f886d476ee92",
   "outputs": [
    {
     "name": "stdout",
     "output_type": "stream",
     "text": [
      "[0.    0.001 0.002 ... 0.998 0.999 1.   ]\n",
      "[[0. 0. 0. ... 0. 0. 0.]\n",
      " [0. 0. 0. ... 0. 0. 0.]\n",
      " [0. 0. 0. ... 0. 0. 0.]\n",
      " ...\n",
      " [0. 0. 0. ... 0. 0. 0.]\n",
      " [0. 0. 0. ... 0. 0. 0.]\n",
      " [0. 0. 0. ... 0. 0. 0.]]\n",
      "[0.00890331 0.00898686 0.00907119 ... 0.99092881 0.99101314 0.99109669]\n",
      "0.5\n",
      "circle1: [-0.00699242 -0.00705803 -0.00712425 ... -0.49994924 -0.49995018\n",
      " -0.4999511 ]\n",
      "circle2: [0.4999511  0.49995018 0.49994924 ... 0.00712425 0.00705803 0.00699242]\n"
     ]
    }
   ],
   "execution_count": 25
  },
  {
   "metadata": {
    "ExecuteTime": {
     "end_time": "2024-10-31T06:05:07.205754Z",
     "start_time": "2024-10-31T06:05:07.200975Z"
    }
   },
   "cell_type": "code",
   "source": [
    "Y[:, 0] = circle1\n",
    "Y[:, 1] = 0.55\n",
    "Y[:, 2] = circle2"
   ],
   "id": "3df19928152f1b28",
   "outputs": [],
   "execution_count": 24
  },
  {
   "metadata": {
    "ExecuteTime": {
     "end_time": "2024-10-31T06:24:16.373068Z",
     "start_time": "2024-10-31T06:24:16.369933Z"
    }
   },
   "cell_type": "code",
   "source": "np.linspace(0.0, 2.0, 101)",
   "id": "d1b1c0dcfa12085e",
   "outputs": [
    {
     "data": {
      "text/plain": [
       "array([0.  , 0.02, 0.04, 0.06, 0.08, 0.1 , 0.12, 0.14, 0.16, 0.18, 0.2 ,\n",
       "       0.22, 0.24, 0.26, 0.28, 0.3 , 0.32, 0.34, 0.36, 0.38, 0.4 , 0.42,\n",
       "       0.44, 0.46, 0.48, 0.5 , 0.52, 0.54, 0.56, 0.58, 0.6 , 0.62, 0.64,\n",
       "       0.66, 0.68, 0.7 , 0.72, 0.74, 0.76, 0.78, 0.8 , 0.82, 0.84, 0.86,\n",
       "       0.88, 0.9 , 0.92, 0.94, 0.96, 0.98, 1.  , 1.02, 1.04, 1.06, 1.08,\n",
       "       1.1 , 1.12, 1.14, 1.16, 1.18, 1.2 , 1.22, 1.24, 1.26, 1.28, 1.3 ,\n",
       "       1.32, 1.34, 1.36, 1.38, 1.4 , 1.42, 1.44, 1.46, 1.48, 1.5 , 1.52,\n",
       "       1.54, 1.56, 1.58, 1.6 , 1.62, 1.64, 1.66, 1.68, 1.7 , 1.72, 1.74,\n",
       "       1.76, 1.78, 1.8 , 1.82, 1.84, 1.86, 1.88, 1.9 , 1.92, 1.94, 1.96,\n",
       "       1.98, 2.  ])"
      ]
     },
     "execution_count": 26,
     "metadata": {},
     "output_type": "execute_result"
    }
   ],
   "execution_count": 26
  },
  {
   "metadata": {
    "ExecuteTime": {
     "end_time": "2024-10-31T06:44:35.535452Z",
     "start_time": "2024-10-31T06:44:35.532008Z"
    }
   },
   "cell_type": "code",
   "source": [
    "Y = np.empty((len(T), 2))\n",
    "Y[:, 0] = np.cos(2.5 * np.pi * T)  #TODO:2.5*np.pi?\n",
    "Y[:, 1] = 0.5 + np.cos(1.5 * np.pi * T)\n",
    "Y[0]"
   ],
   "id": "ee0cf86cb89afa05",
   "outputs": [
    {
     "data": {
      "text/plain": [
       "array([1. , 1.5])"
      ]
     },
     "execution_count": 27,
     "metadata": {},
     "output_type": "execute_result"
    }
   ],
   "execution_count": 27
  },
  {
   "metadata": {
    "ExecuteTime": {
     "end_time": "2024-10-31T08:14:20.927303Z",
     "start_time": "2024-10-31T08:14:20.925263Z"
    }
   },
   "cell_type": "code",
   "source": "start_y = np.array([0.0])",
   "id": "84144011afa54e1e",
   "outputs": [],
   "execution_count": 31
  },
  {
   "metadata": {
    "ExecuteTime": {
     "end_time": "2024-10-31T08:15:19.991676Z",
     "start_time": "2024-10-31T08:15:19.989242Z"
    }
   },
   "cell_type": "code",
   "source": [
    "start_y = np.array(0.0)\n",
    "print(start_y)\n",
    "print(type(start_y))\n",
    "print(start_y.shape)"
   ],
   "id": "9c0f0f72ea9199ec",
   "outputs": [
    {
     "name": "stdout",
     "output_type": "stream",
     "text": [
      "0.0\n",
      "<class 'numpy.ndarray'>\n",
      "()\n"
     ]
    }
   ],
   "execution_count": 35
  },
  {
   "metadata": {
    "ExecuteTime": {
     "end_time": "2025-04-20T08:43:25.925807Z",
     "start_time": "2025-04-20T08:43:25.879062Z"
    }
   },
   "cell_type": "code",
   "source": [
    "import numpy as np\n",
    "new_start = np.array([0.5, 0.5, 0, 1, 0, 0, 0, 0.5, 0.5, 0, 1, 0, 0, 0])\n",
    "new_goal = np.array([-0.5, 0.5, 0, 1, 0, 0, 0, -0.5, 0.5, 0, 1, 0, 0, 0])\n",
    "print(new_start[np.newaxis])\n",
    "print(new_start[np.newaxis].shape)"
   ],
   "id": "70697768c3fce743",
   "outputs": [
    {
     "name": "stdout",
     "output_type": "stream",
     "text": [
      "[[0.5 0.5 0.  1.  0.  0.  0.  0.5 0.5 0.  1.  0.  0.  0. ]]\n",
      "(1, 14)\n"
     ]
    }
   ],
   "execution_count": 1
  },
  {
   "metadata": {
    "ExecuteTime": {
     "end_time": "2024-11-01T04:31:09.906757Z",
     "start_time": "2024-11-01T04:31:09.903902Z"
    }
   },
   "cell_type": "code",
   "source": [
    "a = np.zeros((3,2))\n",
    "a"
   ],
   "id": "e1e749adeb7dab6e",
   "outputs": [
    {
     "data": {
      "text/plain": [
       "array([[0., 0.],\n",
       "       [0., 0.],\n",
       "       [0., 0.]])"
      ]
     },
     "execution_count": 8,
     "metadata": {},
     "output_type": "execute_result"
    }
   ],
   "execution_count": 8
  },
  {
   "metadata": {
    "ExecuteTime": {
     "end_time": "2024-11-01T04:32:15.262273Z",
     "start_time": "2024-11-01T04:32:15.259136Z"
    }
   },
   "cell_type": "code",
   "source": [
    "a = np.zeros([2,3])\n",
    "a"
   ],
   "id": "4c94b170cfb0038f",
   "outputs": [
    {
     "data": {
      "text/plain": [
       "array([[0., 0., 0.],\n",
       "       [0., 0., 0.]])"
      ]
     },
     "execution_count": 9,
     "metadata": {},
     "output_type": "execute_result"
    }
   ],
   "execution_count": 9
  },
  {
   "metadata": {
    "ExecuteTime": {
     "end_time": "2024-11-01T04:34:38.097847Z",
     "start_time": "2024-11-01T04:34:38.095525Z"
    }
   },
   "cell_type": "code",
   "source": [
    "random_state = np.random.RandomState(2)\n",
    "print(random_state)"
   ],
   "id": "7e13e9bff7618d55",
   "outputs": [
    {
     "name": "stdout",
     "output_type": "stream",
     "text": [
      "RandomState(MT19937)\n"
     ]
    }
   ],
   "execution_count": 12
  },
  {
   "metadata": {},
   "cell_type": "code",
   "outputs": [],
   "execution_count": null,
   "source": "",
   "id": "d9d76e8de1ee2e1c"
  }
 ],
 "metadata": {
  "kernelspec": {
   "display_name": "Python 3",
   "language": "python",
   "name": "python3"
  },
  "language_info": {
   "codemirror_mode": {
    "name": "ipython",
    "version": 2
   },
   "file_extension": ".py",
   "mimetype": "text/x-python",
   "name": "python",
   "nbconvert_exporter": "python",
   "pygments_lexer": "ipython2",
   "version": "2.7.6"
  }
 },
 "nbformat": 4,
 "nbformat_minor": 5
}
