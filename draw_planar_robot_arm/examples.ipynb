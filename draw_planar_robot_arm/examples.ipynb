{
 "cells": [
  {
   "cell_type": "code",
   "id": "initial_id",
   "metadata": {
    "collapsed": true,
    "ExecuteTime": {
     "end_time": "2024-11-07T08:22:04.498844Z",
     "start_time": "2024-11-07T08:22:04.138297Z"
    }
   },
   "source": [
    "import plot_planar_robot as plr\n",
    "import utils_planar_robot as upr\n",
    "\n",
    "plr.plot_planar_axis()\n",
    "plr.plotArmLink()"
   ],
   "outputs": [
    {
     "ename": "TypeError",
     "evalue": "plot_planar_axis() missing 2 required positional arguments: 'ax' and 'p'",
     "output_type": "error",
     "traceback": [
      "\u001B[0;31m---------------------------------------------------------------------------\u001B[0m",
      "\u001B[0;31mTypeError\u001B[0m                                 Traceback (most recent call last)",
      "Cell \u001B[0;32mIn[1], line 4\u001B[0m\n\u001B[1;32m      1\u001B[0m \u001B[38;5;28;01mimport\u001B[39;00m \u001B[38;5;21;01mplot_planar_robot\u001B[39;00m \u001B[38;5;28;01mas\u001B[39;00m \u001B[38;5;21;01mplr\u001B[39;00m\n\u001B[1;32m      2\u001B[0m \u001B[38;5;28;01mimport\u001B[39;00m \u001B[38;5;21;01mutils_planar_robot\u001B[39;00m \u001B[38;5;28;01mas\u001B[39;00m \u001B[38;5;21;01mupr\u001B[39;00m\n\u001B[0;32m----> 4\u001B[0m \u001B[43mplr\u001B[49m\u001B[38;5;241;43m.\u001B[39;49m\u001B[43mplot_planar_axis\u001B[49m\u001B[43m(\u001B[49m\u001B[43m)\u001B[49m\n",
      "\u001B[0;31mTypeError\u001B[0m: plot_planar_axis() missing 2 required positional arguments: 'ax' and 'p'"
     ]
    }
   ],
   "execution_count": 1
  }
 ],
 "metadata": {
  "kernelspec": {
   "display_name": "Python 3",
   "language": "python",
   "name": "python3"
  },
  "language_info": {
   "codemirror_mode": {
    "name": "ipython",
    "version": 2
   },
   "file_extension": ".py",
   "mimetype": "text/x-python",
   "name": "python",
   "nbconvert_exporter": "python",
   "pygments_lexer": "ipython2",
   "version": "2.7.6"
  }
 },
 "nbformat": 4,
 "nbformat_minor": 5
}
