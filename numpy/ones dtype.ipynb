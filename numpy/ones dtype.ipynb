{
 "cells": [
  {
   "cell_type": "code",
   "id": "initial_id",
   "metadata": {
    "collapsed": true,
    "ExecuteTime": {
     "end_time": "2025-04-27T02:50:13.008965Z",
     "start_time": "2025-04-27T02:50:13.004562Z"
    }
   },
   "source": [
    "import numpy as np\n",
    "\n",
    "yd = np.zeros(12)\n",
    "start_yd = np.copy(yd)\n",
    "scaling = np.ones_like(start_yd)\n",
    "\n",
    "print(f\"yd:{yd}\")\n",
    "print(f\"start_yd:{start_yd}\")\n",
    "print(f\"scaling:{scaling}\")\n",
    "print(f\"yd:{yd.dtype}\")\n",
    "print(f\"start_yd:{start_yd.dtype}\")\n",
    "print(f\"scaling:{scaling.dtype}\")"
   ],
   "outputs": [
    {
     "name": "stdout",
     "output_type": "stream",
     "text": [
      "yd:[0. 0. 0. 0. 0. 0. 0. 0. 0. 0. 0. 0.]\n",
      "start_yd:[0. 0. 0. 0. 0. 0. 0. 0. 0. 0. 0. 0.]\n",
      "scaling:[1. 1. 1. 1. 1. 1. 1. 1. 1. 1. 1. 1.]\n",
      "yd:float64\n",
      "start_yd:float64\n",
      "scaling:float64\n"
     ]
    }
   ],
   "execution_count": 4
  },
  {
   "metadata": {},
   "cell_type": "code",
   "outputs": [],
   "execution_count": null,
   "source": "",
   "id": "d606bf35f6718365"
  }
 ],
 "metadata": {
  "kernelspec": {
   "display_name": "Python 3",
   "language": "python",
   "name": "python3"
  },
  "language_info": {
   "codemirror_mode": {
    "name": "ipython",
    "version": 2
   },
   "file_extension": ".py",
   "mimetype": "text/x-python",
   "name": "python",
   "nbconvert_exporter": "python",
   "pygments_lexer": "ipython2",
   "version": "2.7.6"
  }
 },
 "nbformat": 4,
 "nbformat_minor": 5
}
