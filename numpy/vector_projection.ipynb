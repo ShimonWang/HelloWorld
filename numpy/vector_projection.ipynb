{
 "cells": [
  {
   "cell_type": "code",
   "id": "initial_id",
   "metadata": {
    "collapsed": true,
    "ExecuteTime": {
     "end_time": "2025-03-18T12:07:10.372417Z",
     "start_time": "2025-03-18T12:07:10.368450Z"
    }
   },
   "source": [
    "import numpy as np\n",
    "\n",
    "u = np.array([1,0,np.sqrt(3)/2])\n",
    "v = np.array([1,0,0])\n",
    "\n",
    "t = np.dot(u,v)/np.dot(v,v)\n",
    "print(f\"np.dot(u,v):\",np.dot(u,v))\n",
    "print(f\"np.dot(v,v):\",np.dot(v,v))\n",
    "u_x = t * v"
   ],
   "outputs": [
    {
     "name": "stdout",
     "output_type": "stream",
     "text": [
      "np.dot(u,v): 1.0\n",
      "np.dot(v,v): 1\n"
     ]
    }
   ],
   "execution_count": 3
  },
  {
   "metadata": {},
   "cell_type": "code",
   "outputs": [],
   "execution_count": null,
   "source": "",
   "id": "988b2590d9005daa"
  }
 ],
 "metadata": {
  "kernelspec": {
   "display_name": "Python 3",
   "language": "python",
   "name": "python3"
  },
  "language_info": {
   "codemirror_mode": {
    "name": "ipython",
    "version": 2
   },
   "file_extension": ".py",
   "mimetype": "text/x-python",
   "name": "python",
   "nbconvert_exporter": "python",
   "pygments_lexer": "ipython2",
   "version": "2.7.6"
  }
 },
 "nbformat": 4,
 "nbformat_minor": 5
}
