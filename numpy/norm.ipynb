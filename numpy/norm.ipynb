{
 "cells": [
  {
   "cell_type": "code",
   "id": "initial_id",
   "metadata": {
    "collapsed": true,
    "ExecuteTime": {
     "end_time": "2025-03-17T08:57:38.885721Z",
     "start_time": "2025-03-17T08:57:38.879927Z"
    }
   },
   "source": [
    "import numpy as np\n",
    "\n",
    "# 期望距离矩阵\n",
    "desired_distance = np.array([  # right arm to left arm\n",
    "    [1.0, 0.0, 0.0, 0.0],\n",
    "    [0.0, 1.0, 0.0, 0.0],\n",
    "    [0.0, 0.0, 1.0, -1.2],\n",
    "    [0.0, 0.0, 0.0, 1.0]\n",
    "])\n",
    "desired_distance_norm = np.linalg.norm(desired_distance[:3,3])\n",
    "print(f\"desired_distance:{desired_distance}\")\n",
    "print(f\"desired_distance[:,3]:{desired_distance[:3,3]}\")\n",
    "print(f\"desired_distance_norm:{desired_distance_norm}\")"
   ],
   "outputs": [
    {
     "name": "stdout",
     "output_type": "stream",
     "text": [
      "desired_distance:[[ 1.   0.   0.   0. ]\n",
      " [ 0.   1.   0.   0. ]\n",
      " [ 0.   0.   1.  -1.2]\n",
      " [ 0.   0.   0.   1. ]]\n",
      "desired_distance[:,3]:[ 0.   0.  -1.2]\n",
      "desired_distance_norm:1.2\n"
     ]
    }
   ],
   "execution_count": 12
  },
  {
   "metadata": {
    "ExecuteTime": {
     "end_time": "2025-03-17T09:02:25.418075Z",
     "start_time": "2025-03-17T09:02:25.414620Z"
    }
   },
   "cell_type": "code",
   "source": [
    "# 期望距离矩阵\n",
    "desired_distance = np.array([  # right arm to left arm\n",
    "    [1.0, 0.0, 0.0, 0.0],\n",
    "    [0.0, 1.0, 0.0, 0.0],\n",
    "    [0.0, 0.0, 1.0, -1.2],\n",
    "    [0.0, 0.0, 0.0, 1.0]\n",
    "])\n",
    "print(f\"desired_distance:{desired_distance}\")\n",
    "desired_distance_pos = desired_distance[:3,3]\n",
    "# desired_distance_xyz = np.linalg.norm(desired_distance_pos)  # right相对于left的欧式距离\n",
    "# desired_distance_xyz = -1.2  # right相对于left的欧式距离\n",
    "desired_distance_xyz = desired_distance_pos  # right相对于left的欧式距离\n",
    "\n",
    "pos_error = np.array([1/2,1/2*np.sqrt(3),1])\n",
    "pos_error = np.array([1,1,1])\n",
    "print(f\"pos_error:{pos_error}\")\n",
    "# 将目标距离投影到当前方向上，确保方向一致\n",
    "desired_distance_xyz = (desired_distance_xyz * pos_error\n",
    "                    / np.linalg.norm(pos_error))  # np.linalg.norm求范数\n",
    "print(f\"pos_error:{desired_distance_xyz}\")"
   ],
   "id": "e0c3c2ccd4fd10d9",
   "outputs": [
    {
     "name": "stdout",
     "output_type": "stream",
     "text": [
      "desired_distance:[[ 1.   0.   0.   0. ]\n",
      " [ 0.   1.   0.   0. ]\n",
      " [ 0.   0.   1.  -1.2]\n",
      " [ 0.   0.   0.   1. ]]\n",
      "pos_error:[1 1 1]\n",
      "pos_error:[ 0.          0.         -0.69282032]\n"
     ]
    }
   ],
   "execution_count": 22
  },
  {
   "metadata": {
    "ExecuteTime": {
     "end_time": "2025-03-17T09:04:05.536521Z",
     "start_time": "2025-03-17T09:04:05.533226Z"
    }
   },
   "cell_type": "code",
   "source": [
    "a = np.array([1,2,3])\n",
    "b = np.array([4,5,6])\n",
    "c = a*b"
   ],
   "id": "92bb48fbd875e251",
   "outputs": [],
   "execution_count": 24
  },
  {
   "metadata": {},
   "cell_type": "code",
   "outputs": [],
   "execution_count": null,
   "source": "",
   "id": "777114c51508f818"
  }
 ],
 "metadata": {
  "kernelspec": {
   "display_name": "Python 3",
   "language": "python",
   "name": "python3"
  },
  "language_info": {
   "codemirror_mode": {
    "name": "ipython",
    "version": 2
   },
   "file_extension": ".py",
   "mimetype": "text/x-python",
   "name": "python",
   "nbconvert_exporter": "python",
   "pygments_lexer": "ipython2",
   "version": "2.7.6"
  }
 },
 "nbformat": 4,
 "nbformat_minor": 5
}
