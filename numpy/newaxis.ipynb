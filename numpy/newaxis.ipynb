{
 "cells": [
  {
   "cell_type": "code",
   "id": "initial_id",
   "metadata": {
    "collapsed": true,
    "ExecuteTime": {
     "end_time": "2025-05-23T04:48:43.268315Z",
     "start_time": "2025-05-23T04:48:43.190166Z"
    }
   },
   "source": "import numpy as np",
   "outputs": [],
   "execution_count": 1
  },
  {
   "metadata": {
    "ExecuteTime": {
     "end_time": "2025-05-23T04:48:59.692194Z",
     "start_time": "2025-05-23T04:48:59.689901Z"
    }
   },
   "cell_type": "code",
   "source": "t = np.linspace(0, 1, 11)",
   "id": "4c5b215290c8fc19",
   "outputs": [],
   "execution_count": 2
  },
  {
   "metadata": {
    "ExecuteTime": {
     "end_time": "2025-05-23T04:49:20.728921Z",
     "start_time": "2025-05-23T04:49:20.725861Z"
    }
   },
   "cell_type": "code",
   "source": [
    "print(f\"t[np.newaxis].shape:{t[np.newaxis].shape}\")\n",
    "print(f\"t[:, np.newaxis].shape:{t[:, np.newaxis].shape}\")"
   ],
   "id": "3b8e5dc0ee82ec25",
   "outputs": [
    {
     "name": "stdout",
     "output_type": "stream",
     "text": [
      "t[np.newaxis].shape:(1, 11)\n",
      "t[:, np.newaxis].shape:(11, 1)\n"
     ]
    }
   ],
   "execution_count": 3
  },
  {
   "metadata": {},
   "cell_type": "code",
   "outputs": [],
   "execution_count": null,
   "source": "",
   "id": "d6d6843d727155a4"
  }
 ],
 "metadata": {
  "kernelspec": {
   "display_name": "Python 3",
   "language": "python",
   "name": "python3"
  },
  "language_info": {
   "codemirror_mode": {
    "name": "ipython",
    "version": 2
   },
   "file_extension": ".py",
   "mimetype": "text/x-python",
   "name": "python",
   "nbconvert_exporter": "python",
   "pygments_lexer": "ipython2",
   "version": "2.7.6"
  }
 },
 "nbformat": 4,
 "nbformat_minor": 5
}
