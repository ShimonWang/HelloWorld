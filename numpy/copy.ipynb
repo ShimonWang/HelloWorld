{
 "cells": [
  {
   "cell_type": "code",
   "id": "initial_id",
   "metadata": {
    "collapsed": true,
    "ExecuteTime": {
     "end_time": "2025-03-12T09:20:10.742304Z",
     "start_time": "2025-03-12T09:20:10.739835Z"
    }
   },
   "source": [
    "import numpy as np\n",
    "\n",
    "a = 3.14\n",
    "b = a\n",
    "print(id(a))\n",
    "print(id(b))\n"
   ],
   "outputs": [
    {
     "name": "stdout",
     "output_type": "stream",
     "text": [
      "140132248305264\n",
      "140132248305264\n"
     ]
    }
   ],
   "execution_count": 18
  },
  {
   "metadata": {
    "ExecuteTime": {
     "end_time": "2025-03-12T10:18:34.114076Z",
     "start_time": "2025-03-12T10:18:34.110512Z"
    }
   },
   "cell_type": "code",
   "source": [
    "a = 3.14\n",
    "b = a\n",
    "\n",
    "a = a + 1\n",
    "print(id(a))\n",
    "print(id(b))\n",
    "print(a)\n",
    "print(b)"
   ],
   "id": "7e29e1d0661fbb35",
   "outputs": [
    {
     "name": "stdout",
     "output_type": "stream",
     "text": [
      "140132232686032\n",
      "140132169003152\n",
      "4.140000000000001\n",
      "3.14\n"
     ]
    }
   ],
   "execution_count": 27
  },
  {
   "metadata": {
    "ExecuteTime": {
     "end_time": "2025-03-12T08:45:27.596179Z",
     "start_time": "2025-03-12T08:45:27.592618Z"
    }
   },
   "cell_type": "code",
   "source": [
    "import numpy as np\n",
    "\n",
    "a = 1\n",
    "c = np.copy(a)\n",
    "a = 3\n",
    "print(a)\n",
    "print(c)\n",
    "print(id(a))\n",
    "print(id(c))"
   ],
   "id": "b1484c226c07c4d8",
   "outputs": [
    {
     "name": "stdout",
     "output_type": "stream",
     "text": [
      "3\n",
      "1\n",
      "140132283435376\n",
      "140132248147984\n"
     ]
    }
   ],
   "execution_count": 11
  },
  {
   "metadata": {
    "ExecuteTime": {
     "end_time": "2025-03-12T10:50:39.931403Z",
     "start_time": "2025-03-12T10:50:39.928498Z"
    }
   },
   "cell_type": "code",
   "source": [
    "a = np.array([1,2,3])\n",
    "b = a\n",
    "print(id(a))\n",
    "print(id(b))\n",
    "# a[:] = a + 1\n",
    "a = a + 1\n",
    "print(a)\n",
    "print(b)\n",
    "print(id(a))\n",
    "print(id(b))"
   ],
   "id": "95428a095f833239",
   "outputs": [
    {
     "name": "stdout",
     "output_type": "stream",
     "text": [
      "140132248147504\n",
      "140132248147504\n",
      "[2 3 4]\n",
      "[1 2 3]\n",
      "140132248044144\n",
      "140132248147504\n"
     ]
    }
   ],
   "execution_count": 31
  },
  {
   "metadata": {},
   "cell_type": "code",
   "outputs": [],
   "execution_count": null,
   "source": "",
   "id": "b78912b0092b9246"
  }
 ],
 "metadata": {
  "kernelspec": {
   "display_name": "Python 3",
   "language": "python",
   "name": "python3"
  },
  "language_info": {
   "codemirror_mode": {
    "name": "ipython",
    "version": 2
   },
   "file_extension": ".py",
   "mimetype": "text/x-python",
   "name": "python",
   "nbconvert_exporter": "python",
   "pygments_lexer": "ipython2",
   "version": "2.7.6"
  }
 },
 "nbformat": 4,
 "nbformat_minor": 5
}
