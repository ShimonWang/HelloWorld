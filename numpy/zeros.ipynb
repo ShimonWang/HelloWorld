{
 "cells": [
  {
   "cell_type": "code",
   "id": "initial_id",
   "metadata": {
    "collapsed": true,
    "ExecuteTime": {
     "end_time": "2024-12-03T11:17:34.790443Z",
     "start_time": "2024-12-03T11:17:34.713740Z"
    }
   },
   "source": [
    "import numpy as np\n",
    "\n",
    "a = np.zeros(3)\n",
    "print(a)\n",
    "print(a.shape)"
   ],
   "outputs": [
    {
     "name": "stdout",
     "output_type": "stream",
     "text": [
      "[0. 0. 0.]\n",
      "(3,)\n"
     ]
    }
   ],
   "execution_count": 2
  },
  {
   "metadata": {
    "ExecuteTime": {
     "end_time": "2024-12-03T11:17:40.796493Z",
     "start_time": "2024-12-03T11:17:40.793196Z"
    }
   },
   "cell_type": "code",
   "source": [
    "tau = 2.0\n",
    "acc = np.array([0.])\n",
    "alpha_z = np.array([25,25])\n",
    "beta_z = np.array([6.25,6.25])\n",
    "desired_distance = 0.5\n",
    "pos = -0.5\n",
    "vel = np.array([0.])\n",
    "fx = tau**2*acc - ( alpha_z*(beta_z*(desired_distance - pos)) - tau*vel )   # fx: array shape(2,1)  [-156.25 -156.25]\n",
    "print(fx)\n"
   ],
   "id": "54835faf3e500463",
   "outputs": [
    {
     "name": "stdout",
     "output_type": "stream",
     "text": [
      "[-156.25 -156.25]\n"
     ]
    }
   ],
   "execution_count": 4
  },
  {
   "metadata": {},
   "cell_type": "code",
   "outputs": [],
   "execution_count": null,
   "source": "",
   "id": "4058f76a2f90fafc"
  }
 ],
 "metadata": {
  "kernelspec": {
   "display_name": "Python 3",
   "language": "python",
   "name": "python3"
  },
  "language_info": {
   "codemirror_mode": {
    "name": "ipython",
    "version": 2
   },
   "file_extension": ".py",
   "mimetype": "text/x-python",
   "name": "python",
   "nbconvert_exporter": "python",
   "pygments_lexer": "ipython2",
   "version": "2.7.6"
  }
 },
 "nbformat": 4,
 "nbformat_minor": 5
}
