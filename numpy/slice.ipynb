{
 "cells": [
  {
   "cell_type": "code",
   "id": "initial_id",
   "metadata": {
    "collapsed": true,
    "ExecuteTime": {
     "end_time": "2025-03-07T02:07:23.040604Z",
     "start_time": "2025-03-07T02:07:23.037289Z"
    }
   },
   "source": [
    "import numpy as np\n",
    "\n",
    "tracking_error = np.array([1,2,3,4,5,6,7])\n",
    "for ops in (slice(3, 7), slice(10, 14)):\n",
    "    print(slice(3,7))\n",
    "    print(tracking_error[ops])"
   ],
   "outputs": [
    {
     "name": "stdout",
     "output_type": "stream",
     "text": [
      "slice(3, 7, None)\n",
      "[4 5 6 7]\n",
      "slice(3, 7, None)\n",
      "[]\n"
     ]
    }
   ],
   "execution_count": 5
  },
  {
   "metadata": {
    "ExecuteTime": {
     "end_time": "2025-03-07T02:09:32.992701Z",
     "start_time": "2025-03-07T02:09:32.987969Z"
    }
   },
   "cell_type": "code",
   "source": [
    "myslice = slice(5)    # 设置截取5个元素的切片\n",
    "print(slice(None, 5, None))\n",
    "arr = range(10)\n",
    "arr[myslice]     # 截取 5 个元素"
   ],
   "id": "eec33c72e0c59d0f",
   "outputs": [
    {
     "name": "stdout",
     "output_type": "stream",
     "text": [
      "slice(None, 5, None)\n"
     ]
    },
    {
     "data": {
      "text/plain": [
       "range(0, 5)"
      ]
     },
     "execution_count": 13,
     "metadata": {},
     "output_type": "execute_result"
    }
   ],
   "execution_count": 13
  },
  {
   "metadata": {},
   "cell_type": "code",
   "outputs": [],
   "execution_count": null,
   "source": "",
   "id": "605b24321ca7d72f"
  }
 ],
 "metadata": {
  "kernelspec": {
   "display_name": "Python 3",
   "language": "python",
   "name": "python3"
  },
  "language_info": {
   "codemirror_mode": {
    "name": "ipython",
    "version": 2
   },
   "file_extension": ".py",
   "mimetype": "text/x-python",
   "name": "python",
   "nbconvert_exporter": "python",
   "pygments_lexer": "ipython2",
   "version": "2.7.6"
  }
 },
 "nbformat": 4,
 "nbformat_minor": 5
}
