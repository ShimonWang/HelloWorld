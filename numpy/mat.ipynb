{
 "cells": [
  {
   "cell_type": "code",
   "id": "initial_id",
   "metadata": {
    "collapsed": true,
    "ExecuteTime": {
     "end_time": "2025-07-18T06:35:30.992528Z",
     "start_time": "2025-07-18T06:35:30.989252Z"
    }
   },
   "source": [
    "import numpy as np\n",
    "\n",
    "# delta_twist = np.mat(np.zeros((6, 1)))  # [dx, dy, dz, droll, dpitch, dyaw]\n",
    "delta_twist = np.asmatrix(np.zeros((6, 1)))  # [dx, dy, dz, droll, dpitch, dyaw]\n",
    "print(f\"delta_twist:{delta_twist}\")\n",
    "print(f\"delta_twist.shape:{delta_twist.shape}\")"
   ],
   "outputs": [
    {
     "name": "stdout",
     "output_type": "stream",
     "text": [
      "delta_twist:[[0.]\n",
      " [0.]\n",
      " [0.]\n",
      " [0.]\n",
      " [0.]\n",
      " [0.]]\n",
      "delta_twist.shape:(6, 1)\n"
     ]
    }
   ],
   "execution_count": 4
  },
  {
   "metadata": {},
   "cell_type": "code",
   "outputs": [],
   "execution_count": null,
   "source": "",
   "id": "b3a453b0305e3f82"
  }
 ],
 "metadata": {
  "kernelspec": {
   "display_name": "Python 3",
   "language": "python",
   "name": "python3"
  },
  "language_info": {
   "codemirror_mode": {
    "name": "ipython",
    "version": 2
   },
   "file_extension": ".py",
   "mimetype": "text/x-python",
   "name": "python",
   "nbconvert_exporter": "python",
   "pygments_lexer": "ipython2",
   "version": "2.7.6"
  }
 },
 "nbformat": 4,
 "nbformat_minor": 5
}
