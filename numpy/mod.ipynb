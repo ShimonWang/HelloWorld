{
 "cells": [
  {
   "cell_type": "code",
   "id": "initial_id",
   "metadata": {
    "collapsed": true,
    "ExecuteTime": {
     "end_time": "2025-04-21T02:34:02.408934Z",
     "start_time": "2025-04-21T02:34:02.403040Z"
    }
   },
   "source": [
    "import numpy as np\n",
    "\n",
    "x = np.random.rand(3)*np.pi*2 - np.pi\n",
    "np.mod(np.sum(x,0)+np.pi, 2*np.pi) - np.pi\n"
   ],
   "outputs": [
    {
     "data": {
      "text/plain": [
       "np.float64(0.07229374769182284)"
      ]
     },
     "execution_count": 108,
     "metadata": {},
     "output_type": "execute_result"
    }
   ],
   "execution_count": 108
  }
 ],
 "metadata": {
  "kernelspec": {
   "display_name": "Python 3",
   "language": "python",
   "name": "python3"
  },
  "language_info": {
   "codemirror_mode": {
    "name": "ipython",
    "version": 2
   },
   "file_extension": ".py",
   "mimetype": "text/x-python",
   "name": "python",
   "nbconvert_exporter": "python",
   "pygments_lexer": "ipython2",
   "version": "2.7.6"
  }
 },
 "nbformat": 4,
 "nbformat_minor": 5
}
