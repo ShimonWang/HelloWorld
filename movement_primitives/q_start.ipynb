{
 "cells": [
  {
   "cell_type": "code",
   "id": "initial_id",
   "metadata": {
    "collapsed": true,
    "ExecuteTime": {
     "end_time": "2025-06-02T11:13:30.935031Z",
     "start_time": "2025-06-02T11:13:30.932711Z"
    }
   },
   "source": [
    "import numpy as np\n",
    "import pytransform3d.rotations as pr\n",
    "import pytransform3d.transformations as pt"
   ],
   "outputs": [],
   "execution_count": 18
  },
  {
   "metadata": {
    "ExecuteTime": {
     "end_time": "2025-06-02T11:13:31.316555Z",
     "start_time": "2025-06-02T11:13:31.314102Z"
    }
   },
   "cell_type": "code",
   "source": [
    "q_left = [0.70562, 0.04029, 0.70634, -0.03944]\n",
    "q_right = [-0.03999, 0.70638, 0.03973, -0.70559]\n",
    "a_left = pr.axis_angle_from_quaternion(q_left)\n",
    "a_right = pr.axis_angle_from_quaternion(q_right)"
   ],
   "id": "37998fd6f4341c41",
   "outputs": [],
   "execution_count": 19
  },
  {
   "metadata": {
    "ExecuteTime": {
     "end_time": "2025-06-02T11:32:21.945769Z",
     "start_time": "2025-06-02T11:32:21.942569Z"
    }
   },
   "cell_type": "code",
   "source": [
    "q_left1 = pr.quaternion_from_axis_angle([0, 1, 0, np.deg2rad(0)])\n",
    "q_right1 = pr.quaternion_from_axis_angle([1, 0, -1, np.deg2rad(180)])\n",
    "\n",
    "# q_right2 = pt.concat(pr.matrix_from_axis_angle([0, 0, 1, np.deg2rad(180)]), pr.matrix_from_quaternion\n",
    "# (q_left1))\n",
    "# R_three_fingers_front = pr.matrix_from_axis_angle([0, 0, 1, 0.5 * np.pi])\n",
    "# R_to_center_start = pr.matrix_from_axis_angle([1, 0, 0, np.deg2rad(-180)])\n",
    "# R_to_center_end = pr.matrix_from_axis_angle([1, 0, 0, np.deg2rad(-270)])\n",
    "# q_start = pr.quaternion_from_matrix(R_three_fingers_front.dot(R_to_center_start))\n",
    "R_three_fingers_front = pr.matrix_from_axis_angle([0, 0, 1, np.deg2rad(90)])\n",
    "R_to_center_start = pr.matrix_from_axis_angle([1, 0, 0, np.deg2rad(90)])\n",
    "q_right2 = pr.quaternion_from_matrix(R_three_fingers_front.dot(R_to_center_start))\n",
    "print(q_left)\n",
    "print(q_left1)\n",
    "print(q_right)\n",
    "print(q_right1)\n",
    "print(q_right2)"
   ],
   "id": "f3a045d93c823cef",
   "outputs": [
    {
     "name": "stdout",
     "output_type": "stream",
     "text": [
      "[0.70562, 0.04029, 0.70634, -0.03944]\n",
      "[1. 0. 0. 0.]\n",
      "[-0.03999, 0.70638, 0.03973, -0.70559]\n",
      "[ 6.12323400e-17  7.07106781e-01  0.00000000e+00 -7.07106781e-01]\n",
      "[0.5 0.5 0.5 0.5]\n"
     ]
    }
   ],
   "execution_count": 28
  },
  {
   "metadata": {},
   "cell_type": "code",
   "outputs": [],
   "execution_count": null,
   "source": "",
   "id": "9904203c4c3150b"
  }
 ],
 "metadata": {
  "kernelspec": {
   "display_name": "Python 3",
   "language": "python",
   "name": "python3"
  },
  "language_info": {
   "codemirror_mode": {
    "name": "ipython",
    "version": 2
   },
   "file_extension": ".py",
   "mimetype": "text/x-python",
   "name": "python",
   "nbconvert_exporter": "python",
   "pygments_lexer": "ipython2",
   "version": "2.7.6"
  }
 },
 "nbformat": 4,
 "nbformat_minor": 5
}
