{
 "cells": [
  {
   "cell_type": "code",
   "id": "initial_id",
   "metadata": {
    "collapsed": true,
    "ExecuteTime": {
     "end_time": "2025-06-03T02:16:16.535284Z",
     "start_time": "2025-06-03T02:16:16.532395Z"
    }
   },
   "source": [
    "import pytransform3d.rotations as pr\n",
    "import numpy as np"
   ],
   "outputs": [],
   "execution_count": 7
  },
  {
   "metadata": {
    "ExecuteTime": {
     "end_time": "2025-06-03T02:17:06.538398Z",
     "start_time": "2025-06-03T02:17:06.536276Z"
    }
   },
   "cell_type": "code",
   "source": "R=pr.matrix_from_euler([np.pi, 0, np.deg2rad(0)], 2, 1, 0, False)",
   "id": "4b88613d5add3b52",
   "outputs": [],
   "execution_count": 15
  },
  {
   "metadata": {},
   "cell_type": "code",
   "outputs": [],
   "execution_count": null,
   "source": "",
   "id": "a511010e4aefecd1"
  }
 ],
 "metadata": {
  "kernelspec": {
   "display_name": "Python 3",
   "language": "python",
   "name": "python3"
  },
  "language_info": {
   "codemirror_mode": {
    "name": "ipython",
    "version": 2
   },
   "file_extension": ".py",
   "mimetype": "text/x-python",
   "name": "python",
   "nbconvert_exporter": "python",
   "pygments_lexer": "ipython2",
   "version": "2.7.6"
  }
 },
 "nbformat": 4,
 "nbformat_minor": 5
}
