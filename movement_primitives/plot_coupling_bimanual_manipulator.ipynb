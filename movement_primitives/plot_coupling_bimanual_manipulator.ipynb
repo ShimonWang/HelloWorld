{
 "cells": [
  {
   "cell_type": "code",
   "execution_count": null,
   "id": "initial_id",
   "metadata": {
    "collapsed": true
   },
   "outputs": [],
   "source": [
    "import numpy as np\n",
    "import matplotlib.pyplot as plt\n",
    "\n",
    "# 轨迹5\n",
    "A = 1.0\n",
    "lambda_ = 0.5\n",
    "# x1=-1 y1=2t\n",
    "Y[:, 0] = 0\n",
    "Y[:, 1] = T*2\n",
    "# x2=t y2= A*exp(-lambda*t)\n",
    "Y[:, 2] = T\n",
    "Y[:, 3] = A*np.exp(-lambda_*T)  # y(t) = A*exp(-lambda*t)\n",
    "fig1 = plt.figure(1)\n",
    "plt.plot(T, Y[:,3])\n",
    "fig2 = plt.figure(2)\n",
    "plt.plot(Y[:, 2], Y[:, 3])\n",
    "plt.show()"
   ]
  }
 ],
 "metadata": {
  "kernelspec": {
   "display_name": "Python 3",
   "language": "python",
   "name": "python3"
  },
  "language_info": {
   "codemirror_mode": {
    "name": "ipython",
    "version": 2
   },
   "file_extension": ".py",
   "mimetype": "text/x-python",
   "name": "python",
   "nbconvert_exporter": "python",
   "pygments_lexer": "ipython2",
   "version": "2.7.6"
  }
 },
 "nbformat": 4,
 "nbformat_minor": 5
}
