{
 "cells": [
  {
   "cell_type": "code",
   "id": "initial_id",
   "metadata": {
    "collapsed": true,
    "ExecuteTime": {
     "end_time": "2025-06-10T12:32:42.556703Z",
     "start_time": "2025-06-10T12:32:42.554758Z"
    }
   },
   "source": [
    "import pytransform3d.transformations as pt\n",
    "import pytransform3d.rotations as pr\n",
    "import numpy as np"
   ],
   "outputs": [],
   "execution_count": 16
  },
  {
   "metadata": {
    "ExecuteTime": {
     "end_time": "2025-06-10T12:40:59.947816Z",
     "start_time": "2025-06-10T12:40:59.944562Z"
    }
   },
   "cell_type": "code",
   "source": [
    "# ee_state = [0.79866,0.26980,0.60229,0.70562,0.04029,0.70634,-0.303944,0.79866,-0.26981,0.60229,-0.0399,0.70638,0.039638]\n",
    "# left2base_start = pt.transform_from_pq(ee_state[:7])  # 左臂的初始位姿（旋转矩阵）\n",
    "# right2base_start = pt.transform_from_pq(ee_state[7:])  # 右臂的初始位姿（旋转矩阵\n",
    "\n",
    "left2base_start = np.array([  # right arm to left arm\n",
    "    [0.0, 0.0, 1.0, 0.8],\n",
    "    [0.0, 1.0, 0.0, 0.27],\n",
    "    [-1.0, 0.0, 0.0, 0.60],\n",
    "    [0.0, 0.0, 0.0, 1.0]\n",
    "]) # 左臂的初始位姿（旋转矩阵）\n",
    "# left2base_start[:3, :3] = pr.matrix_from_compact_axis_angle([np.deg2rad(180), 0, 0])  # R(x,pi) x轴旋转pi度\n",
    "left2base_start_a = pr.axis_angle_from_matrix(left2base_start[:3, :3])\n",
    "\n",
    "right2base_start = np.array([  # right arm to left arm\n",
    "    [0.0, 0.0, 1.0, 0.0],\n",
    "    [0.0, -1.0, 0.0, 0.0],\n",
    "    [1.0, 0.0, 0.0, -1.2],\n",
    "    [0.0, 0.0, 0.0, 1.0]\n",
    "]) # 左臂的初始位姿（旋转矩阵） # 右臂的初始位姿（旋转矩阵）\n",
    "right2base_start_a = pr.axis_angle_from_matrix(right2base_start[:3, :3])\n",
    "\n",
    "right2base_start_matrix = pr.matrix_from_axis_angle([1, 0, 1, np.deg2rad(180)])\n"
   ],
   "id": "dd3e38cffd15c309",
   "outputs": [],
   "execution_count": 21
  },
  {
   "metadata": {
    "ExecuteTime": {
     "end_time": "2025-06-10T12:43:57.659272Z",
     "start_time": "2025-06-10T12:43:57.656014Z"
    }
   },
   "cell_type": "code",
   "source": [
    "# 左右末端执行器初始姿态\n",
    "ee_left_start = np.array([  # right arm to left arm\n",
    "    [1.0, 0.0, 0.0, 0.0],\n",
    "    [0.0, 1.0, 0.0, 0.0],\n",
    "    [0.0, 0.0, 1.0, -1.2],\n",
    "    [0.0, 0.0, 0.0, 1.0]\n",
    "])\n",
    "ee_left_start[:3, :3] = pr.matrix_from_axis_angle([0, 1, 0, np.deg2rad(90)])  # R(x,pi) x轴旋转pi度\n",
    "\n",
    "ee_right_start = np.array([  # right arm to left arm\n",
    "    [1.0, 0.0, 0.0, 0.0],\n",
    "    [0.0, 1.0, 0.0, 0.0],\n",
    "    [0.0, 0.0, 1.0, -1.2],\n",
    "    [0.0, 0.0, 0.0, 1.0]\n",
    "])\n",
    "ee_right_start[:3, :3] = pr.matrix_from_axis_angle([1, 0, 1, np.deg2rad(180)])  # R(x,pi) x轴旋转pi度"
   ],
   "id": "65190d5f2f44bcd4",
   "outputs": [],
   "execution_count": 23
  },
  {
   "metadata": {},
   "cell_type": "code",
   "outputs": [],
   "execution_count": null,
   "source": "",
   "id": "f38bd3d6303b0da6"
  }
 ],
 "metadata": {
  "kernelspec": {
   "display_name": "Python 3",
   "language": "python",
   "name": "python3"
  },
  "language_info": {
   "codemirror_mode": {
    "name": "ipython",
    "version": 2
   },
   "file_extension": ".py",
   "mimetype": "text/x-python",
   "name": "python",
   "nbconvert_exporter": "python",
   "pygments_lexer": "ipython2",
   "version": "2.7.6"
  }
 },
 "nbformat": 4,
 "nbformat_minor": 5
}
