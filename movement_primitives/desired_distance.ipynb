{
 "cells": [
  {
   "cell_type": "code",
   "id": "initial_id",
   "metadata": {
    "collapsed": true,
    "ExecuteTime": {
     "end_time": "2025-03-25T08:04:38.689606Z",
     "start_time": "2025-03-25T08:04:38.629702Z"
    }
   },
   "source": [
    "import numpy as np\n",
    "\n",
    "# 期望距离矩阵\n",
    "desired_distance = np.array([  # right arm to left arm\n",
    "    [1.0, 0.0, 0.0, 0.0],\n",
    "    [0.0, -1.0, 0.0, 0.0],\n",
    "    [0.0, 0.0, -1.0, -1.2],\n",
    "    [0.0, 0.0, 0.0, 1.0]\n",
    "])\n",
    "\n",
    "desired_distance_1 = np.linalg.inv(desired_distance)"
   ],
   "outputs": [],
   "execution_count": 1
  }
 ],
 "metadata": {
  "kernelspec": {
   "display_name": "Python 3",
   "language": "python",
   "name": "python3"
  },
  "language_info": {
   "codemirror_mode": {
    "name": "ipython",
    "version": 2
   },
   "file_extension": ".py",
   "mimetype": "text/x-python",
   "name": "python",
   "nbconvert_exporter": "python",
   "pygments_lexer": "ipython2",
   "version": "2.7.6"
  }
 },
 "nbformat": 4,
 "nbformat_minor": 5
}
