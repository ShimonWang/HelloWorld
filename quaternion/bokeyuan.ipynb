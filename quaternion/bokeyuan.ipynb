{
 "cells": [
  {
   "cell_type": "code",
   "id": "initial_id",
   "metadata": {
    "collapsed": true,
    "jupyter": {
     "is_executing": true
    }
   },
   "source": [
    "from sympy import *\n",
    "from sympy.algebras.quaternion import Quaternion\n",
    "\n",
    "s, x, y, z = symbols('s x y z', real=True, positive=True)\n",
    "a, b, g = symbols('a b g')\n",
    "vi, vj, vk = symbols('v_i v_j v_k')\n",
    "tvi, tvj, tvk = symbols('t_i, t_j, t_k')\n",
    "\n",
    "# 定义三个轴的旋转四元数\n",
    "qa = Quaternion(cos(a), 0, sin(a), 0)\n",
    "qb = Quaternion(cos(b), sin(b), 0, 0)\n",
    "qg = Quaternion(cos(g), 0, 0, sin(g))\n",
    "\n",
    "# 按顺序合并旋转四元数为一个单位四元数\n",
    "q = qa.mul(qb.mul(qg))\n",
    "\n",
    "print ('The unit quaternion q is: {}'.format(pretty(q)))\n",
    "# The quaternion q is: (sin(a)*sin(b)*sin(g) + cos(a)*cos(b)*cos(g)) + (sin(a)*sin(g)*cos(b) + sin(b)*cos(a)*cos(g))*i +\n",
    "# (sin(a)*cos(b)*cos(g) - sin(b)*sin(g)*cos(a))*j + (-sin(a)*sin(b)*cos(g) + sin(g)*cos(a)*cos(b))*k\n",
    "\n",
    "# 定义一个普通四元数\n",
    "q = Quaternion(s, x, y, z)\n",
    "print ('The normal quaternion q is: {}'.format(pretty(q)))\n",
    "# The normal quaternion q is: s + x*i + y*j + z*k\n",
    "\n",
    "# 四元数求共轭\n",
    "cq = conjugate(q)\n",
    "print ('The conjugate quaternion cq is: {}'.format(pretty(cq)))\n",
    "\n",
    "# 定义一个纯四元数\n",
    "v = Quaternion(0, vi, vj, vk)\n",
    "print ('The pure quaternion v is: {}'.format(pretty(v)))\n",
    "# The pure quaternion v is: 0 + v_i*i + v_j*j + v_k*k\n",
    "\n",
    "# 计算四元数的旋转qvq*\n",
    "tv = simplify(q.mul(v.mul(cq)))\n",
    "print ('Transformed pure quaternion tv is: {}'.format(pretty(tv)))\n",
    "# Transformed pure quaternion tv is: 0 +\n",
    "# (s*(s*v_i - v_j*z + v_k*y) + x*(v_i*x + v_j*y + v_k*z) + y*(s*v_k - v_i*y + v_j*x) - z*(s*v_j + v_i*z - v_k*x))*i +\n",
    "# (s*(s*v_j + v_i*z - v_k*x) - x*(s*v_k - v_i*y + v_j*x) + y*(v_i*x + v_j*y + v_k*z) + z*(s*v_i - v_j*z + v_k*y))*j +\n",
    "# (s*(s*v_k - v_i*y + v_j*x) + x*(s*v_j + v_i*z - v_k*x) - y*(s*v_i - v_j*z + v_k*y) + z*(v_i*x + v_j*y + v_k*z))*k\n"
   ],
   "outputs": [],
   "execution_count": null
  },
  {
   "metadata": {
    "ExecuteTime": {
     "end_time": "2025-03-09T13:00:56.069717Z",
     "start_time": "2025-03-09T13:00:56.068299Z"
    }
   },
   "cell_type": "code",
   "source": "",
   "id": "ad698ceb3cb5c565",
   "outputs": [],
   "execution_count": null
  },
  {
   "metadata": {},
   "cell_type": "code",
   "outputs": [],
   "execution_count": null,
   "source": "",
   "id": "49a07c18c0e95f54"
  }
 ],
 "metadata": {
  "kernelspec": {
   "display_name": "Python (HelloWorld)",
   "language": "python",
   "name": "helloworld"
  },
  "language_info": {
   "codemirror_mode": {
    "name": "ipython",
    "version": 2
   },
   "file_extension": ".py",
   "mimetype": "text/x-python",
   "name": "python",
   "nbconvert_exporter": "python",
   "pygments_lexer": "ipython2",
   "version": "2.7.6"
  }
 },
 "nbformat": 4,
 "nbformat_minor": 5
}
