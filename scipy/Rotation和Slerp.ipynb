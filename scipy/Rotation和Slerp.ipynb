{
 "cells": [
  {
   "cell_type": "code",
   "id": "initial_id",
   "metadata": {
    "collapsed": true,
    "ExecuteTime": {
     "end_time": "2024-11-23T13:00:44.051095Z",
     "start_time": "2024-11-23T13:00:44.047524Z"
    }
   },
   "source": [
    "from scipy.spatial.transform import Rotation as R\n",
    "from scipy.spatial.transform import Slerp"
   ],
   "outputs": [],
   "execution_count": 2
  },
  {
   "metadata": {
    "ExecuteTime": {
     "end_time": "2024-11-23T13:02:04.286189Z",
     "start_time": "2024-11-23T13:02:04.275878Z"
    }
   },
   "cell_type": "code",
   "source": [
    "key_rots = R.random(5, random_state=2342345)\n",
    "key_times = [0, 1, 2, 3, 4]\n",
    "print(key_rots)\n",
    "print(key_times)"
   ],
   "id": "cb729735b5910318",
   "outputs": [
    {
     "name": "stdout",
     "output_type": "stream",
     "text": [
      "<scipy.spatial.transform._rotation.Rotation object at 0x7ff4095108a0>\n",
      "[0, 1, 2, 3, 4]\n"
     ]
    }
   ],
   "execution_count": 8
  },
  {
   "metadata": {
    "ExecuteTime": {
     "end_time": "2024-11-23T13:04:39.521536Z",
     "start_time": "2024-11-23T13:04:39.513397Z"
    }
   },
   "cell_type": "code",
   "source": [
    "slerp = Slerp(key_times, key_rots)\n",
    "print(slerp)"
   ],
   "id": "b1316942c076aadb",
   "outputs": [
    {
     "name": "stdout",
     "output_type": "stream",
     "text": [
      "<scipy.spatial.transform._rotation.Slerp object at 0x7ff40956e7d0>\n"
     ]
    }
   ],
   "execution_count": 10
  },
  {
   "metadata": {
    "ExecuteTime": {
     "end_time": "2024-11-23T13:04:49.465907Z",
     "start_time": "2024-11-23T13:04:49.463185Z"
    }
   },
   "cell_type": "code",
   "source": [
    "# 对给定时间的旋转进行内插法计算：\n",
    "times = [0, 0.5, 0.25, 1, 1.5, 2, 2.75, 3, 3.25, 3.60, 4]\n",
    "interp_rots = slerp(times)\n",
    "\n",
    "print(interp_rots)"
   ],
   "id": "280eb43b568e5068",
   "outputs": [
    {
     "name": "stdout",
     "output_type": "stream",
     "text": [
      "<scipy.spatial.transform._rotation.Rotation object at 0x7ff407211f20>\n"
     ]
    }
   ],
   "execution_count": 11
  },
  {
   "metadata": {
    "ExecuteTime": {
     "end_time": "2024-11-23T13:05:52.524291Z",
     "start_time": "2024-11-23T13:05:52.521655Z"
    }
   },
   "cell_type": "code",
   "source": [
    "# 以欧拉角表示的关键帧旋转：\n",
    "key_rots.as_euler('xyz', degrees=True)\n",
    "\n",
    "print(key_rots.as_euler('xyz', degrees=True))"
   ],
   "id": "3d8c076f3d60b831",
   "outputs": [
    {
     "name": "stdout",
     "output_type": "stream",
     "text": [
      "[[ 14.31443779 -27.50095894  -3.7275787 ]\n",
      " [ -1.79924227 -24.69421529 164.57701743]\n",
      " [146.15020772  43.22849451 -31.34891088]\n",
      " [ 46.39959442  11.62126073 -45.99719267]\n",
      " [-88.94647804 -49.64400082 -65.80546984]]\n"
     ]
    }
   ],
   "execution_count": 13
  },
  {
   "metadata": {
    "ExecuteTime": {
     "end_time": "2024-11-23T13:06:02.058605Z",
     "start_time": "2024-11-23T13:06:02.055817Z"
    }
   },
   "cell_type": "code",
   "source": [
    "# 以欧拉角表示的内插旋转。这与关键帧时间范围两端点的关键帧旋转一致。\n",
    "interp_rots.as_euler('xyz', degrees=True)\n",
    "\n",
    "print(interp_rots.as_euler('xyz', degrees=True))"
   ],
   "id": "3d191164a5d9fe24",
   "outputs": [
    {
     "name": "stdout",
     "output_type": "stream",
     "text": [
      "[[  14.31443779  -27.50095894   -3.7275787 ]\n",
      " [   4.74588574  -32.44683966   81.25139984]\n",
      " [  10.71094749  -31.56690154   38.06896408]\n",
      " [  -1.79924227  -24.69421529  164.57701743]\n",
      " [  11.72796022   51.64207311 -171.7374683 ]\n",
      " [ 146.15020772   43.22849451  -31.34891088]\n",
      " [  68.10921869   20.67625074  -48.74886034]\n",
      " [  46.39959442   11.62126073  -45.99719267]\n",
      " [  12.35552615    4.21525086  -64.89288124]\n",
      " [ -30.08117143  -19.90769513  -78.98121326]\n",
      " [ -88.94647804  -49.64400082  -65.80546984]]\n"
     ]
    }
   ],
   "execution_count": 14
  },
  {
   "metadata": {},
   "cell_type": "code",
   "outputs": [],
   "execution_count": null,
   "source": "",
   "id": "7fda6229f7189a4"
  }
 ],
 "metadata": {
  "kernelspec": {
   "display_name": "Python 3",
   "language": "python",
   "name": "python3"
  },
  "language_info": {
   "codemirror_mode": {
    "name": "ipython",
    "version": 2
   },
   "file_extension": ".py",
   "mimetype": "text/x-python",
   "name": "python",
   "nbconvert_exporter": "python",
   "pygments_lexer": "ipython2",
   "version": "2.7.6"
  }
 },
 "nbformat": 4,
 "nbformat_minor": 5
}
