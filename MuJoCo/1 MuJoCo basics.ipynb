{
 "cells": [
  {
   "cell_type": "markdown",
   "id": "56eb61dd497d1c5d",
   "metadata": {},
   "source": [
    "这个笔记本使用原生 Python 绑定，为 MuJoCo 物理提供了一个入门教程\n",
    "摘自：https://github.com/google-deepmind/mujoco/blob/main/python/tutorial.ipynb"
   ]
  },
  {
   "cell_type": "markdown",
   "id": "c35383af4ea554ab",
   "metadata": {},
   "source": [
    "# All imports"
   ]
  },
  {
   "cell_type": "code",
   "execution_count": 1,
   "id": "initial_id",
   "metadata": {},
   "outputs": [],
   "source": [
    "# !pip install mujoco\n",
    "\n",
    "# Set up GPU rendering.\n",
    "# from google.colab import files\n",
    "import distutils.util\n",
    "import os\n",
    "import subprocess\n",
    "if subprocess.run('nvidia-smi').returncode:\n",
    "    raise RuntimeError(\n",
    "        'Cannot communicate with GPU. '\n",
    "        'Make sure you are using a GPU Colab runtime. '\n",
    "        'Go to the Runtime menu and select Choose runtime type.')\n",
    "\n",
    "# Add an ICD config so that glvnd can pick up the Nvidia EGL driver.\n",
    "# This is usually installed as part of an Nvidia driver package, but the Colab\n",
    "# kernel doesn't install its driver via APT, and as a result the ICD is missing.\n",
    "# (https://github.com/NVIDIA/libglvnd/blob/master/src/EGL/icd_enumeration.md)\n",
    "NVIDIA_ICD_CONFIG_PATH = '/usr/share/glvnd/egl_vendor.d/10_nvidia.json'\n",
    "if not os.path.exists(NVIDIA_ICD_CONFIG_PATH):\n",
    "    with open(NVIDIA_ICD_CONFIG_PATH, 'w') as f:\n",
    "        f.write(\"\"\"{\n",
    "    \"file_format_version\" : \"1.0.0\",\n",
    "    \"ICD\" : {\n",
    "        \"library_path\" : \"libEGL_nvidia.so.0\"\n",
    "    }\n",
    "}\n",
    "\"\"\")\n",
    "\n",
    "# Configure MuJoCo to use the EGL rendering backend (requires GPU)\n",
    "print('Setting environment variable to use GPU rendering:')\n",
    "%env MUJOCO_GL=egl\n",
    "\n",
    "# Check if installation was succesful.\n",
    "try:\n",
    "    print('Checking that the installation succeeded:')\n",
    "    import mujoco\n",
    "    mujoco.MjModel.from_xml_string('<mujoco/>')\n",
    "except Exception as e:\n",
    "    raise e from RuntimeError(\n",
    "        'Something went wrong during installation. Check the shell output above '\n",
    "        'for more information.\\n'\n",
    "        'If using a hosted Colab runtime, make sure you enable GPU acceleration '\n",
    "        'by going to the Runtime menu and selecting \"Choose runtime type\".')\n",
    "\n",
    "print('Installation successful.')\n",
    "\n",
    "# Other imports and helper functions\n",
    "import time\n",
    "import itertools\n",
    "import numpy as np\n",
    "\n",
    "# Graphics and plotting.\n",
    "print('Installing mediapy:')\n",
    "!command -v ffmpeg >/dev/null || (apt update && apt install -y ffmpeg)\n",
    "!pip install -q mediapy\n",
    "import mediapy as media\n",
    "import matplotlib.pyplot as plt\n",
    "\n",
    "# More legible printing from numpy.\n",
    "np.set_printoptions(precision=3, suppress=True, linewidth=100)\n",
    "\n",
    "from IPython.display import clear_output\n",
    "clear_output()\n"
   ]
  },
  {
   "cell_type": "markdown",
   "id": "1d394a91d5735ee1",
   "metadata": {},
   "source": [
    "# MuJoCo 基础\n",
    "\n",
    "我们首先定义并加载一个简单的模型："
   ]
  },
  {
   "cell_type": "code",
   "execution_count": 2,
   "id": "e3c1a979978bfbcb",
   "metadata": {
    "ExecuteTime": {
     "end_time": "2025-05-30T07:15:31.252630Z",
     "start_time": "2025-05-30T07:15:31.248914Z"
    },
    "editable": true,
    "slideshow": {
     "slide_type": ""
    },
    "tags": []
   },
   "outputs": [
    {
     "name": "stdout",
     "output_type": "stream",
     "text": [
      "<mujoco._structs.MjModel object at 0x7f1b0d1946f0>\n",
      "<class 'mujoco._structs.MjModel'>\n"
     ]
    }
   ],
   "source": [
    "xml = \"\"\"\n",
    "<mujoco>\n",
    "  <worldbody>\n",
    "    <geom name=\"red_box\" type=\"box\" size=\".2 .2 .2\" rgba=\"1 0 0 1\"/>\n",
    "    <geom name=\"green_sphere\" pos=\".2 .2 .2\" size=\".1\" rgba=\"0 1 0 1\"/>\n",
    "  </worldbody>\n",
    "</mujoco>\n",
    "\"\"\"\n",
    "model = mujoco.MjModel.from_xml_string(xml)\n",
    "# from_xml_string:从XML字符串和可选的资源字典中加载MjModel。\n",
    "# mujoco.MjModel 类没有 Python 构造函数。相反，我们提供了三个静态工厂函数来创建新的 mjModel 实例： mujoco.MjModel.from_xml_string 、mujoco.MjModel.from_xml_path，和 mujoco.MjModel.from_binary_path 。第一个函数接受一个模型 XML 作为字符串，而后两个函数接受 XML 或 MJB 模型文件的路径。这三个函数都可选地接受一个 Python 字典，该字典会被转换为 MuJoCo 虚拟文件系统 ，用于模型编译过程中。\n",
    "print(model)\n",
    "print(type(model))"
   ]
  },
  {
   "cell_type": "markdown",
   "id": "b8965dbf4c55eaaa",
   "metadata": {},
   "source": [
    "## mjModel"
   ]
  },
  {
   "cell_type": "code",
   "execution_count": 3,
   "id": "5363d1cea559a16b",
   "metadata": {
    "ExecuteTime": {
     "end_time": "2025-05-30T07:15:44.992138Z",
     "start_time": "2025-05-30T07:15:44.986326Z"
    }
   },
   "outputs": [
    {
     "data": {
      "text/plain": [
       "2"
      ]
     },
     "execution_count": 3,
     "metadata": {},
     "output_type": "execute_result"
    }
   ],
   "source": [
    "model.ngeom  # number of geoms 几何体的数量"
   ]
  },
  {
   "cell_type": "code",
   "execution_count": 4,
   "id": "cfffe2c39933ce87",
   "metadata": {
    "ExecuteTime": {
     "end_time": "2025-05-30T07:15:54.550478Z",
     "start_time": "2025-05-30T07:15:54.546814Z"
    }
   },
   "outputs": [
    {
     "data": {
      "text/plain": [
       "array([[1., 0., 0., 1.],\n",
       "       [0., 1., 0., 1.]], dtype=float32)"
      ]
     },
     "execution_count": 4,
     "metadata": {},
     "output_type": "execute_result"
    }
   ],
   "source": [
    "model.geom_rgba  # rgba when material is omitted (ngeom x 4)"
   ]
  },
  {
   "cell_type": "markdown",
   "id": "d6bcbd369f9dd512",
   "metadata": {},
   "source": [
    "## Named access 命名访问"
   ]
  },
  {
   "cell_type": "code",
   "execution_count": 5,
   "id": "2f98d8daa6a3c05b",
   "metadata": {
    "ExecuteTime": {
     "end_time": "2025-05-30T07:15:58.451363Z",
     "start_time": "2025-05-30T07:15:58.448885Z"
    }
   },
   "outputs": [
    {
     "name": "stdout",
     "output_type": "stream",
     "text": [
      "\"Invalid name ''. Valid names: ['green_sphere', 'red_box']\"\n",
      "<class 'KeyError'>\n"
     ]
    }
   ],
   "source": [
    "try:\n",
    "    model.geom()\n",
    "except KeyError as e:\n",
    "    print(e)\n",
    "    print(type(e))"
   ]
  },
  {
   "cell_type": "code",
   "execution_count": 6,
   "id": "f8364d58ee5e8006",
   "metadata": {
    "ExecuteTime": {
     "end_time": "2025-05-30T07:15:59.523014Z",
     "start_time": "2025-05-30T07:15:59.518995Z"
    }
   },
   "outputs": [
    {
     "data": {
      "text/plain": [
       "<_MjModelGeomViews\n",
       "  bodyid: array([0], dtype=int32)\n",
       "  conaffinity: array([1], dtype=int32)\n",
       "  condim: array([3], dtype=int32)\n",
       "  contype: array([1], dtype=int32)\n",
       "  dataid: array([-1], dtype=int32)\n",
       "  friction: array([1.   , 0.005, 0.   ])\n",
       "  gap: array([0.])\n",
       "  group: array([0], dtype=int32)\n",
       "  id: 0\n",
       "  margin: array([0.])\n",
       "  matid: array([-1], dtype=int32)\n",
       "  name: 'red_box'\n",
       "  pos: array([0., 0., 0.])\n",
       "  priority: array([0], dtype=int32)\n",
       "  quat: array([1., 0., 0., 0.])\n",
       "  rbound: array([0.346])\n",
       "  rgba: array([1., 0., 0., 1.], dtype=float32)\n",
       "  sameframe: array([1], dtype=uint8)\n",
       "  size: array([0.2, 0.2, 0.2])\n",
       "  solimp: array([0.9  , 0.95 , 0.001, 0.5  , 2.   ])\n",
       "  solmix: array([1.])\n",
       "  solref: array([0.02, 1.  ])\n",
       "  type: array([6], dtype=int32)\n",
       "  user: array([], dtype=float64)\n",
       ">"
      ]
     },
     "execution_count": 6,
     "metadata": {},
     "output_type": "execute_result"
    }
   ],
   "source": [
    "model.geom('green_sphere')\n",
    "model.geom('red_box')"
   ]
  },
  {
   "cell_type": "code",
   "execution_count": 7,
   "id": "da47d1385498c15e",
   "metadata": {
    "ExecuteTime": {
     "end_time": "2025-05-30T07:17:14.348704Z",
     "start_time": "2025-05-30T07:17:14.346290Z"
    }
   },
   "outputs": [
    {
     "data": {
      "text/plain": [
       "array([0., 1., 0., 1.], dtype=float32)"
      ]
     },
     "execution_count": 7,
     "metadata": {},
     "output_type": "execute_result"
    }
   ],
   "source": [
    "model.geom('green_sphere').rgba"
   ]
  },
  {
   "cell_type": "code",
   "execution_count": 8,
   "id": "c7407337dc57e864",
   "metadata": {
    "ExecuteTime": {
     "end_time": "2025-05-30T07:17:15.520550Z",
     "start_time": "2025-05-30T07:17:15.516133Z"
    }
   },
   "outputs": [
    {
     "data": {
      "text/plain": [
       "array([0., 1., 0., 1.], dtype=float32)"
      ]
     },
     "execution_count": 8,
     "metadata": {},
     "output_type": "execute_result"
    }
   ],
   "source": [
    "id = mujoco.mj_name2id(model, mujoco.mjtObj.mjOBJ_GEOM, 'green_sphere')\n",
    "model.geom_rgba[id, :]"
   ]
  },
  {
   "cell_type": "code",
   "execution_count": 9,
   "id": "eb8d06c55ccfade7",
   "metadata": {
    "ExecuteTime": {
     "end_time": "2025-05-30T07:18:32.146345Z",
     "start_time": "2025-05-30T07:18:32.143176Z"
    }
   },
   "outputs": [
    {
     "name": "stdout",
     "output_type": "stream",
     "text": [
      "id of \"green_sphere\":  1\n",
      "name of geom 1:  green_sphere\n",
      "name of body 0:  world\n"
     ]
    }
   ],
   "source": [
    "print('id of \"green_sphere\": ', model.geom('green_sphere').id)\n",
    "print('name of geom 1: ', model.geom(1).name)\n",
    "print('name of body 0: ', model.body(0).name)"
   ]
  },
  {
   "cell_type": "code",
   "execution_count": 10,
   "id": "1d74dbf9a00be327",
   "metadata": {
    "ExecuteTime": {
     "end_time": "2025-05-30T07:20:56.687425Z",
     "start_time": "2025-05-30T07:20:56.683693Z"
    }
   },
   "outputs": [
    {
     "data": {
      "text/plain": [
       "['red_box', 'green_sphere']"
      ]
     },
     "execution_count": 10,
     "metadata": {},
     "output_type": "execute_result"
    }
   ],
   "source": [
    "[model.geom(i).name for i in range(model.ngeom)]"
   ]
  },
  {
   "cell_type": "markdown",
   "id": "e1ff468a-323c-49c4-810f-59687a8181e3",
   "metadata": {},
   "source": [
    "## `mjData`"
   ]
  },
  {
   "cell_type": "code",
   "execution_count": 11,
   "id": "7c0b9bb5eb22a009",
   "metadata": {
    "ExecuteTime": {
     "end_time": "2025-05-30T07:20:57.481199Z",
     "start_time": "2025-05-30T07:20:57.477832Z"
    }
   },
   "outputs": [],
   "source": [
    "data = mujoco.MjData(model)"
   ]
  },
  {
   "cell_type": "code",
   "execution_count": 12,
   "id": "f9c1a67bc2336e7a",
   "metadata": {
    "ExecuteTime": {
     "end_time": "2025-05-30T07:21:02.319519Z",
     "start_time": "2025-05-30T07:21:02.316273Z"
    }
   },
   "outputs": [
    {
     "name": "stdout",
     "output_type": "stream",
     "text": [
      "[[0. 0. 0.]\n",
      " [0. 0. 0.]]\n"
     ]
    }
   ],
   "source": [
    "print(data.geom_xpos)  # Cartesian geom position (ngeom x 3)"
   ]
  },
  {
   "cell_type": "code",
   "execution_count": 13,
   "id": "4a2dcf6a9f825000",
   "metadata": {
    "ExecuteTime": {
     "end_time": "2025-05-30T07:27:14.271765Z",
     "start_time": "2025-05-30T07:27:14.268641Z"
    }
   },
   "outputs": [
    {
     "name": "stdout",
     "output_type": "stream",
     "text": [
      "raw access:\n",
      " [[0.  0.  0. ]\n",
      " [0.2 0.2 0.2]]\n",
      "\n",
      "named access:\n",
      " [0.2 0.2 0.2]\n",
      "\n",
      "named access:\n",
      " <_MjDataGeomViews\n",
      "  id: 1\n",
      "  name: 'green_sphere'\n",
      "  xmat: array([1., 0., 0., 0., 1., 0., 0., 0., 1.])\n",
      "  xpos: array([0.2, 0.2, 0.2])\n",
      ">\n"
     ]
    }
   ],
   "source": [
    "mujoco.mj_kinematics(model, data)\n",
    "print('raw access:\\n', data.geom_xpos)\n",
    "\n",
    "# MjData also supports named access:\n",
    "print('\\nnamed access:\\n', data.geom('green_sphere').xpos)\n",
    "geom_green_sphere = data.geom('green_sphere')\n",
    "print('\\nnamed access:\\n', geom_green_sphere)"
   ]
  },
  {
   "cell_type": "code",
   "execution_count": null,
   "id": "f4ae1f19-d3bc-4bc4-99cd-4a172a64c2ee",
   "metadata": {},
   "outputs": [],
   "source": []
  }
 ],
 "metadata": {
  "kernelspec": {
   "display_name": "Python 3 (ipykernel)",
   "language": "python",
   "name": "python3"
  },
  "language_info": {
   "codemirror_mode": {
    "name": "ipython",
    "version": 3
   },
   "file_extension": ".py",
   "mimetype": "text/x-python",
   "name": "python",
   "nbconvert_exporter": "python",
   "pygments_lexer": "ipython3",
   "version": "3.9.21"
  }
 },
 "nbformat": 4,
 "nbformat_minor": 5
}
