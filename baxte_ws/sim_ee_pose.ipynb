{
 "cells": [
  {
   "cell_type": "code",
   "id": "4f3fe0eac86b65",
   "metadata": {
    "ExecuteTime": {
     "end_time": "2025-07-15T07:03:00.077008Z",
     "start_time": "2025-07-15T07:02:59.926305Z"
    }
   },
   "source": [
    "import numpy as np\n",
    "import pytransform3d.rotations as pr\n",
    "\n",
    "# 左右末端执行器初始姿态 对应关节空间（大致）\n",
    "ee_left_start = np.array([\n",
    "    [0.0, -1.0, 0.0, 0.75],\n",
    "    [0.0, 0.0, -1.0, 0.0],\n",
    "    [1.0, 0.0, 0.0, 0.28],\n",
    "    [0.0, 0.0, 0.0, 1.0]\n",
    "])\n",
    "ee_right_start = np.array([\n",
    "    [0.0, 1.0, 0.0, 0.75],\n",
    "    [0.0, 0.0, 1.0, 0.0],\n",
    "    [1.0, 0.0, 0.0, 0.28],\n",
    "    [0.0, 0.0, 0.0, 1.0]\n",
    "])\n",
    "\n",
    "ee_left_start_a = pr.axis_angle_from_matrix(ee_left_start[:3, :3])\n",
    "ee_right_start_a = pr.axis_angle_from_matrix(ee_right_start[:3, :3])\n",
    "print(f\"ee_left_start_a:\\n{np.round(ee_left_start_a, decimals=4)}\")\n",
    "print(f\"ee_right_start_a:\\n{np.round(ee_right_start_a, decimals=4)}\")"
   ],
   "outputs": [
    {
     "name": "stdout",
     "output_type": "stream",
     "text": [
      "ee_left_start_a:\n",
      "[ 0.5774 -0.5774  0.5774  2.0944]\n",
      "ee_right_start_a:\n",
      "[-0.5774 -0.5774 -0.5774  2.0944]\n"
     ]
    }
   ],
   "execution_count": 2
  },
  {
   "metadata": {
    "ExecuteTime": {
     "end_time": "2025-07-14T02:59:16.943556Z",
     "start_time": "2025-07-14T02:59:16.937805Z"
    }
   },
   "cell_type": "code",
   "source": [
    "# 左右末端执行器初始姿态 对应关节空间（大致）\n",
    "ee_left_start = np.array([\n",
    "    [1.0, 0.0, 0.0, 0.75],\n",
    "    [0.0, 1.0, 0.0, 0.0],\n",
    "    [0.0, 0.0, 1.0, 0.28],\n",
    "    [0.0, 0.0, 0.0, 1.0]\n",
    "])\n",
    "ee_left_start[:3, :3] = pr.matrix_from_axis_angle([0, 1, 0, np.deg2rad(-90)]) @ pr.matrix_from_axis_angle([1, 0, 0, np.deg2rad(90)])\n",
    "\n",
    "ee_right_start = np.array([\n",
    "    [1.0, 0.0, 0.0, 0.75],\n",
    "    [0.0, 1.0, 0.0, 0.0],\n",
    "    [0.0, 0.0, 1.0, 0.28],\n",
    "    [0.0, 0.0, 0.0, 1.0]\n",
    "])\n",
    "# ee_left_start[:3, :3] = pr.matrix_from_axis_angle([0, 1, 0, np.deg2rad(90)])  # R(y,pi/2) y轴旋转90度\n",
    "ee_right_start[:3, :3] = pr.matrix_from_axis_angle([0, 1, 0, np.deg2rad(-90)]) @ pr.matrix_from_axis_angle([1, 0, 0, np.deg2rad(-90)])\n",
    "print(f\"ee_left_start:\\n{np.round(ee_left_start, decimals=4)}\")\n",
    "print(f\"ee_right_start:\\n{np.round(ee_right_start, decimals=4)}\")"
   ],
   "id": "initial_id",
   "outputs": [
    {
     "name": "stdout",
     "output_type": "stream",
     "text": [
      "ee_left_start:\n",
      "[[ 0.   -1.   -0.    0.75]\n",
      " [ 0.    0.   -1.    0.  ]\n",
      " [ 1.    0.    0.    0.28]\n",
      " [ 0.    0.    0.    1.  ]]\n",
      "ee_right_start:\n",
      "[[ 0.    1.   -0.    0.75]\n",
      " [ 0.    0.    1.    0.  ]\n",
      " [ 1.   -0.    0.    0.28]\n",
      " [ 0.    0.    0.    1.  ]]\n"
     ]
    }
   ],
   "execution_count": 3
  },
  {
   "metadata": {
    "ExecuteTime": {
     "end_time": "2025-07-14T04:24:13.754070Z",
     "start_time": "2025-07-14T04:24:13.748466Z"
    }
   },
   "cell_type": "code",
   "source": [
    "# 左右末端执行器初始姿态 对应关节空间（大致）\n",
    "# left\n",
    "ee_left_start = np.array([\n",
    "    [1.0, 0.0, 0.0, 0.70],\n",
    "    [0.0, 1.0, 0.0, 0.2],\n",
    "    [0.0, 0.0, 1.0, 0.28],\n",
    "    [0.0, 0.0, 0.0, 1.0]\n",
    "])\n",
    "ee_left_start[:3, :3] = pr.matrix_from_axis_angle([1, -1, 1, np.deg2rad(120)])  # R(k,2/3*pi) k轴旋转120度\n",
    "\n",
    "# right\n",
    "ee_right_start = np.array([\n",
    "    [1.0, 0.0, 0.0, 0.70],\n",
    "    [0.0, 1.0, 0.0, -0.2],\n",
    "    [0.0, 0.0, 1.0, 0.28],\n",
    "    [0.0, 0.0, 0.0, 1.0]\n",
    "])\n",
    "ee_right_start[:3, :3] = pr.matrix_from_axis_angle([-1, -1, -1, np.deg2rad(120)])  # R(k,2/3*pi) k轴旋转120度\n",
    "\n",
    "print(f\"ee_left_start:\\n{np.round(ee_left_start, decimals=4)}\")\n",
    "print(f\"ee_right_start:\\n{np.round(ee_right_start, decimals=4)}\")"
   ],
   "id": "1805657936cd4c92",
   "outputs": [
    {
     "name": "stdout",
     "output_type": "stream",
     "text": [
      "ee_left_start:\n",
      "[[ 0.   -1.   -0.    0.7 ]\n",
      " [ 0.    0.   -1.    0.2 ]\n",
      " [ 1.    0.    0.    0.28]\n",
      " [ 0.    0.    0.    1.  ]]\n",
      "ee_right_start:\n",
      "[[ 0.    1.   -0.    0.7 ]\n",
      " [-0.    0.    1.   -0.2 ]\n",
      " [ 1.   -0.    0.    0.28]\n",
      " [ 0.    0.    0.    1.  ]]\n"
     ]
    }
   ],
   "execution_count": 5
  },
  {
   "metadata": {
    "ExecuteTime": {
     "end_time": "2025-07-15T07:03:03.293481Z",
     "start_time": "2025-07-15T07:03:03.289326Z"
    }
   },
   "cell_type": "code",
   "source": [
    "# 左右末端执行器初始姿态 对应关节空间（大致）\n",
    "ee_left_start = np.array([\n",
    "    [0.0, -1.0, 0.0, 0.68],\n",
    "    [0.0, 0.0, -1.0, 0.14],\n",
    "    [1.0, 0.0, 0.0, 0.15],\n",
    "    [0.0, 0.0, 0.0, 1.0]\n",
    "])\n",
    "ee_right_start = np.array([\n",
    "    [0.0, 1.0, 0.0, 0.68],\n",
    "    [0.0, 0.0, 1.0, -0.13],\n",
    "    [1.0, 0.0, 0.0, 0.15],\n",
    "    [0.0, 0.0, 0.0, 1.0]\n",
    "])\n",
    "\n",
    "ee_left_start_a = pr.axis_angle_from_matrix(ee_left_start[:3, :3])\n",
    "ee_right_start_a = pr.axis_angle_from_matrix(ee_right_start[:3, :3])\n",
    "print(f\"ee_left_start_a:\\n{np.round(ee_left_start_a, decimals=4)}\")\n",
    "print(f\"ee_right_start_a:\\n{np.round(ee_right_start_a, decimals=4)}\")"
   ],
   "id": "294ad30709aadf06",
   "outputs": [
    {
     "name": "stdout",
     "output_type": "stream",
     "text": [
      "ee_left_start_a:\n",
      "[ 0.5774 -0.5774  0.5774  2.0944]\n",
      "ee_right_start_a:\n",
      "[-0.5774 -0.5774 -0.5774  2.0944]\n"
     ]
    }
   ],
   "execution_count": 3
  }
 ],
 "metadata": {
  "kernelspec": {
   "display_name": "Python 3",
   "language": "python",
   "name": "python3"
  },
  "language_info": {
   "codemirror_mode": {
    "name": "ipython",
    "version": 2
   },
   "file_extension": ".py",
   "mimetype": "text/x-python",
   "name": "python",
   "nbconvert_exporter": "python",
   "pygments_lexer": "ipython2",
   "version": "2.7.6"
  }
 },
 "nbformat": 4,
 "nbformat_minor": 5
}
