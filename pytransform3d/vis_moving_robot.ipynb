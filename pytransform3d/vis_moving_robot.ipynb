{
 "cells": [
  {
   "cell_type": "markdown",
   "metadata": {},
   "source": [
    "\n# Animated Robot\n\nIn this example we animate a 6-DOF robot arm with cylindrical visuals.\n"
   ]
  },
  {
   "cell_type": "code",
   "metadata": {
    "collapsed": false,
    "ExecuteTime": {
     "end_time": "2024-11-19T13:22:01.337272Z",
     "start_time": "2024-11-19T13:21:56.208467Z"
    }
   },
   "source": [
    "import os\nimport numpy as np\nfrom pytransform3d.urdf import UrdfTransformManager\nimport pytransform3d.visualizer as pv\n\n\ndef animation_callback(step, n_frames, tm, graph, joint_names):\n    angle = 0.5 * np.cos(2.0 * np.pi * (step / n_frames))\n    for joint_name in joint_names:\n        tm.set_joint(joint_name, angle)\n    graph.set_data()\n    return graph\n\n\nBASE_DIR = \"test/test_data/\"\ndata_dir = BASE_DIR\nsearch_path = \".\"\nwhile (not os.path.exists(data_dir) and\n       os.path.dirname(search_path) != \"pytransform3d\"):\n    search_path = os.path.join(search_path, \"..\")\n    data_dir = os.path.join(search_path, BASE_DIR)\n\ntm = UrdfTransformManager()\nfilename = os.path.join(data_dir, \"robot_with_visuals.urdf\")\nwith open(filename, \"r\") as f:\n    robot_urdf = f.read()\n    tm.load_urdf(robot_urdf, mesh_path=data_dir)\njoint_names = [\"joint%d\" % i for i in range(1, 7)]\nfor joint_name in joint_names:\n    tm.set_joint(joint_name, 0.5)\n\nfig = pv.figure()\ngraph = fig.plot_graph(\n    tm, \"robot_arm\", s=0.1, show_frames=True, show_visuals=True)\nfig.view_init()\nfig.set_zoom(1.5)\nn_frames = 100\nif \"__file__\" in globals():\n    fig.animate(animation_callback, n_frames, loop=True,\n                fargs=(n_frames, tm, graph, joint_names))\n    fig.show()\nelse:\n    fig.save_image(\"__open3d_rendered_image.jpg\")"
   ],
   "outputs": [
    {
     "ename": "KeyboardInterrupt",
     "evalue": "",
     "output_type": "error",
     "traceback": [
      "\u001B[0;31m---------------------------------------------------------------------------\u001B[0m",
      "\u001B[0;31mKeyboardInterrupt\u001B[0m                         Traceback (most recent call last)",
      "Cell \u001B[0;32mIn[2], line 19\u001B[0m\n\u001B[1;32m     16\u001B[0m data_dir \u001B[38;5;241m=\u001B[39m BASE_DIR\n\u001B[1;32m     17\u001B[0m search_path \u001B[38;5;241m=\u001B[39m \u001B[38;5;124m\"\u001B[39m\u001B[38;5;124m.\u001B[39m\u001B[38;5;124m\"\u001B[39m\n\u001B[1;32m     18\u001B[0m \u001B[38;5;28;01mwhile\u001B[39;00m (\u001B[38;5;129;01mnot\u001B[39;00m os\u001B[38;5;241m.\u001B[39mpath\u001B[38;5;241m.\u001B[39mexists(data_dir) \u001B[38;5;129;01mand\u001B[39;00m\n\u001B[0;32m---> 19\u001B[0m        \u001B[43mos\u001B[49m\u001B[38;5;241;43m.\u001B[39;49m\u001B[43mpath\u001B[49m\u001B[38;5;241;43m.\u001B[39;49m\u001B[43mdirname\u001B[49m\u001B[43m(\u001B[49m\u001B[43msearch_path\u001B[49m\u001B[43m)\u001B[49m \u001B[38;5;241m!=\u001B[39m \u001B[38;5;124m\"\u001B[39m\u001B[38;5;124mpytransform3d\u001B[39m\u001B[38;5;124m\"\u001B[39m):\n\u001B[1;32m     20\u001B[0m     search_path \u001B[38;5;241m=\u001B[39m os\u001B[38;5;241m.\u001B[39mpath\u001B[38;5;241m.\u001B[39mjoin(search_path, \u001B[38;5;124m\"\u001B[39m\u001B[38;5;124m..\u001B[39m\u001B[38;5;124m\"\u001B[39m)\n\u001B[1;32m     21\u001B[0m     data_dir \u001B[38;5;241m=\u001B[39m os\u001B[38;5;241m.\u001B[39mpath\u001B[38;5;241m.\u001B[39mjoin(search_path, BASE_DIR)\n",
      "File \u001B[0;32m<frozen posixpath>:150\u001B[0m, in \u001B[0;36mdirname\u001B[0;34m(p)\u001B[0m\n",
      "\u001B[0;31mKeyboardInterrupt\u001B[0m: "
     ]
    }
   ],
   "execution_count": 2
  }
 ],
 "metadata": {
  "kernelspec": {
   "display_name": "Python 3",
   "language": "python",
   "name": "python3"
  },
  "language_info": {
   "codemirror_mode": {
    "name": "ipython",
    "version": 3
   },
   "file_extension": ".py",
   "mimetype": "text/x-python",
   "name": "python",
   "nbconvert_exporter": "python",
   "pygments_lexer": "ipython3",
   "version": "3.9.13"
  }
 },
 "nbformat": 4,
 "nbformat_minor": 0
}
