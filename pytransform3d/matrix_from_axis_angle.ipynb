{
 "cells": [
  {
   "cell_type": "code",
   "id": "initial_id",
   "metadata": {
    "collapsed": true,
    "ExecuteTime": {
     "end_time": "2025-03-27T01:43:05.994748Z",
     "start_time": "2025-03-27T01:43:05.981725Z"
    }
   },
   "source": [
    "from pytransform3d import rotations as pr\n",
    "from pytransform3d import transformations as pt\n",
    "import numpy as np\n",
    "\n",
    "a_x = [1, 0, 0, np.pi/2]\n",
    "R_x = pr.matrix_from_axis_angle(a_x)\n",
    "print(f\"R_x:{np.round(R_x)}\")\n",
    "\n",
    "\n",
    "a_y = [0, 1, 0, np.pi/2]\n",
    "R_y = pr.matrix_from_axis_angle(a_y)\n",
    "print(f\"R_y:{np.round(R_y)}\")\n",
    "\n",
    "a_z = [0, 1, 0, np.pi/2]\n",
    "R_z = pr.matrix_from_axis_angle(a_z)\n",
    "print(np.round(R_z))\n",
    "\n",
    "R = R_y@pr.matrix_from_axis_angle([1, 0, 0, -np.pi/2])\n",
    "a_x_c = pr.compact_axis_angle(a_x)\n",
    "a_y_c = pr.compact_axis_angle(a_y)\n",
    "print(f\"R:{np.round(R)}\")\n",
    "print(pr.axis_angle_from_matrix(R))\n",
    "print(a_y_c -a_x_c)\n",
    "print(pr.axis_angle_from_compact_axis_angle(a_y_c -a_x_c))\n",
    "print('pr.compact_axis_angle_from_matrix(R):', pr.compact_axis_angle_from_matrix(R))"
   ],
   "outputs": [
    {
     "name": "stdout",
     "output_type": "stream",
     "text": [
      "R_x:[[ 1.  0.  0.]\n",
      " [ 0.  0. -1.]\n",
      " [ 0.  1.  0.]]\n",
      "R_y:[[ 0.  0.  1.]\n",
      " [ 0.  1.  0.]\n",
      " [-1.  0.  0.]]\n",
      "[[ 0.  0.  1.]\n",
      " [ 0.  1.  0.]\n",
      " [-1.  0.  0.]]\n",
      "R:[[ 0. -1.  0.]\n",
      " [ 0.  0.  1.]\n",
      " [-1. -0.  0.]]\n",
      "[-0.57735027  0.57735027  0.57735027  2.0943951 ]\n",
      "[-1.57079633  1.57079633  0.        ]\n",
      "[-0.70710678  0.70710678  0.          2.22144147]\n",
      "pr.compact_axis_angle_from_matrix(R): [-1.20919958  1.20919958  1.20919958]\n"
     ]
    }
   ],
   "execution_count": 2
  },
  {
   "metadata": {},
   "cell_type": "code",
   "outputs": [],
   "execution_count": null,
   "source": "",
   "id": "d3a025c0ddc4df69"
  }
 ],
 "metadata": {
  "kernelspec": {
   "display_name": "Python 3",
   "language": "python",
   "name": "python3"
  },
  "language_info": {
   "codemirror_mode": {
    "name": "ipython",
    "version": 2
   },
   "file_extension": ".py",
   "mimetype": "text/x-python",
   "name": "python",
   "nbconvert_exporter": "python",
   "pygments_lexer": "ipython2",
   "version": "2.7.6"
  }
 },
 "nbformat": 4,
 "nbformat_minor": 5
}
