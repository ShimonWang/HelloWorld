{
 "cells": [
  {
   "cell_type": "code",
   "id": "initial_id",
   "metadata": {
    "collapsed": true,
    "jupyter": {
     "is_executing": true
    }
   },
   "source": [
    "import numpy as np\n",
    "import matplotlib.pyplot as plt\n",
    "\n",
    "\n",
    "Y = np.zeros((1001, 14))\n",
    "T = np.linspace(0, 1, len(Y))\n",
    "sigmoid = 0.5 * (np.tanh(1.5 * np.pi * (T - 0.5)) + 1.0)  # 双曲正切函数 sigmoid=0.5*(tanh(pi*(t-0.5)+1.0)\n",
    "radius = 0.5\n",
    "print(T)\n",
    "print(type(sigmoid))\n",
    "plt.plot(T, sigmoid, label=\"Sigmoid Curve\")\n",
    "plt.xlabel(\"T\")\n",
    "plt.ylabel(\"Sigmoid Value\")\n",
    "plt.legend()\n",
    "plt.grid()\n",
    "plt.show()\n"
   ],
   "outputs": [],
   "execution_count": null
  },
  {
   "metadata": {
    "ExecuteTime": {
     "end_time": "2025-03-26T02:07:36.992042Z",
     "start_time": "2025-03-26T02:07:36.990230Z"
    }
   },
   "cell_type": "code",
   "source": "",
   "id": "f0e7ea0567edebaf",
   "outputs": [],
   "execution_count": null
  },
  {
   "metadata": {},
   "cell_type": "code",
   "outputs": [],
   "execution_count": null,
   "source": "",
   "id": "aea7b1ba9c5b26f"
  }
 ],
 "metadata": {
  "kernelspec": {
   "display_name": "Python (HelloWorld)",
   "language": "python",
   "name": "helloworld"
  },
  "language_info": {
   "codemirror_mode": {
    "name": "ipython",
    "version": 2
   },
   "file_extension": ".py",
   "mimetype": "text/x-python",
   "name": "python",
   "nbconvert_exporter": "python",
   "pygments_lexer": "ipython2",
   "version": "2.7.6"
  }
 },
 "nbformat": 4,
 "nbformat_minor": 5
}
