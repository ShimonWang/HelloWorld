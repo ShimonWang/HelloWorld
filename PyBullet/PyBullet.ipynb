{
 "cells": [
  {
   "metadata": {},
   "cell_type": "markdown",
   "source": [
    "# Pybullet quickstart guide\n",
    "摘自Alexander Fabisch的Blog\n",
    "https://alexanderfabisch.github.io/pybullet.html"
   ],
   "id": "863b15a0d6eb3af1"
  },
  {
   "metadata": {
    "collapsed": true,
    "ExecuteTime": {
     "end_time": "2025-05-22T08:44:41.608062Z",
     "start_time": "2025-05-22T08:44:41.562276Z"
    }
   },
   "cell_type": "code",
   "source": "import pybullet",
   "id": "initial_id",
   "outputs": [
    {
     "name": "stderr",
     "output_type": "stream",
     "text": [
      "pybullet build time: Jan 29 2025 23:20:52\n"
     ]
    }
   ],
   "execution_count": 1
  },
  {
   "metadata": {
    "ExecuteTime": {
     "end_time": "2025-05-22T08:44:42.818756Z",
     "start_time": "2025-05-22T08:44:42.579971Z"
    }
   },
   "cell_type": "code",
   "source": [
    "pybullet.connect(pybullet.GUI)\n",
    "# pybullet.connect(pybullet.DIRECT)\n",
    "# without GUI: pybullet.connect(pybullet.DIRECT)"
   ],
   "id": "f67faa92bbfe8154",
   "outputs": [
    {
     "data": {
      "text/plain": [
       "0"
      ]
     },
     "execution_count": 2,
     "metadata": {},
     "output_type": "execute_result"
    }
   ],
   "execution_count": 2
  },
  {
   "metadata": {
    "ExecuteTime": {
     "end_time": "2025-05-22T08:44:47.309879Z",
     "start_time": "2025-05-22T08:44:47.244515Z"
    }
   },
   "cell_type": "code",
   "source": "pybullet.resetSimulation()",
   "id": "803c0d8399834771",
   "outputs": [],
   "execution_count": 3
  },
  {
   "metadata": {
    "ExecuteTime": {
     "end_time": "2025-05-22T08:44:48.276751Z",
     "start_time": "2025-05-22T08:44:48.273319Z"
    }
   },
   "cell_type": "code",
   "source": [
    "import pybullet_data\n",
    "tmp = pybullet.setAdditionalSearchPath(pybullet_data.getDataPath())"
   ],
   "id": "dae1e6826a1ccfc4",
   "outputs": [],
   "execution_count": 4
  },
  {
   "metadata": {
    "ExecuteTime": {
     "end_time": "2025-05-22T08:44:49.643261Z",
     "start_time": "2025-05-22T08:44:49.588808Z"
    }
   },
   "cell_type": "code",
   "source": "plane = pybullet.loadURDF(\"plane.urdf\")",
   "id": "5dc11a55108f739a",
   "outputs": [],
   "execution_count": 5
  },
  {
   "metadata": {
    "ExecuteTime": {
     "end_time": "2025-05-22T08:44:51.759084Z",
     "start_time": "2025-05-22T08:44:51.755231Z"
    }
   },
   "cell_type": "code",
   "source": [
    "import os\n",
    "# this may take a while...\n",
    "os.system(\"git clone https://github.com/ros-industrial/kuka_experimental.git\")"
   ],
   "id": "5eb905e753b0d14a",
   "outputs": [
    {
     "name": "stderr",
     "output_type": "stream",
     "text": [
      "fatal: destination path 'kuka_experimental' already exists and is not an empty directory.\n"
     ]
    },
    {
     "data": {
      "text/plain": [
       "32768"
      ]
     },
     "execution_count": 6,
     "metadata": {},
     "output_type": "execute_result"
    }
   ],
   "execution_count": 6
  },
  {
   "metadata": {
    "ExecuteTime": {
     "end_time": "2025-05-22T08:44:53.731550Z",
     "start_time": "2025-05-22T08:44:53.249056Z"
    }
   },
   "cell_type": "code",
   "source": "robot = pybullet.loadURDF(\"kuka_experimental/kuka_kr210_support/urdf/kr210l150.urdf\")",
   "id": "355060ea6d51d9da",
   "outputs": [
    {
     "name": "stdout",
     "output_type": "stream",
     "text": [
      "startThreads creating 1 threads.\n",
      "starting thread 0\n",
      "started thread 0 \n",
      "argc=2\n",
      "argv[0] = --unused\n",
      "argv[1] = --start_demo_name=Physics Server\n",
      "ExampleBrowserThreadFunc started\n",
      "X11 functions dynamically loaded using dlopen/dlsym OK!\n",
      "X11 functions dynamically loaded using dlopen/dlsym OK!\n",
      "Creating context\n",
      "Created GL 3.3 context\n",
      "Direct GLX rendering context obtained\n",
      "Making context current\n",
      "GL_VENDOR=NVIDIA Corporation\n",
      "GL_RENDERER=NVIDIA GeForce RTX 4060 Ti/PCIe/SSE2\n",
      "GL_VERSION=3.3.0 NVIDIA 570.144\n",
      "GL_SHADING_LANGUAGE_VERSION=3.30 NVIDIA via Cg compiler\n",
      "pthread_getconcurrency()=0\n",
      "Version = 3.3.0 NVIDIA 570.144\n",
      "Vendor = NVIDIA Corporation\n",
      "Renderer = NVIDIA GeForce RTX 4060 Ti/PCIe/SSE2\n",
      "b3Printf: Selected demo: Physics Server\n",
      "startThreads creating 1 threads.\n",
      "starting thread 0\n",
      "started thread 0 \n",
      "MotionThreadFunc thread started\n",
      "ven = NVIDIA Corporation\n",
      "ven = NVIDIA Corporation\n",
      "b3Printf: b3Warning[examples/Importers/ImportURDFDemo/BulletUrdfImporter.cpp,126]:\n",
      "\n",
      "b3Printf: No inertial data for link, using mass=1, localinertiadiagonal = 1,1,1, identity local inertial frame\n",
      "b3Printf: b3Warning[examples/Importers/ImportURDFDemo/BulletUrdfImporter.cpp,126]:\n",
      "\n",
      "b3Printf: tool0\n",
      "b3Printf: b3Warning[examples/Importers/ImportURDFDemo/BulletUrdfImporter.cpp,126]:\n",
      "\n",
      "b3Printf: No inertial data for link, using mass=1, localinertiadiagonal = 1,1,1, identity local inertial frame\n",
      "b3Printf: b3Warning[examples/Importers/ImportURDFDemo/BulletUrdfImporter.cpp,126]:\n",
      "\n",
      "b3Printf: Link1\n",
      "b3Printf: b3Warning[examples/Importers/ImportURDFDemo/BulletUrdfImporter.cpp,1166]:\n",
      "\n",
      "b3Printf: kuka_experimental/kuka_kr210_support/urdf/: cannot extract anything useful from mesh 'kuka_experimental/kuka_kr210_support/meshes/kr210l150/visual/base_link.dae'\n",
      "\n",
      "b3Printf: b3Warning[examples/SharedMemory/plugins/tinyRendererPlugin/TinyRendererVisualShapeConverter.cpp,558]:\n",
      "\n",
      "b3Printf: issue extracting mesh from COLLADA/STL file kuka_experimental/kuka_kr210_support/meshes/kr210l150/visual/base_link.dae\n",
      "\n",
      "b3Printf: b3Warning[examples/Importers/ImportURDFDemo/BulletUrdfImporter.cpp,1166]:\n",
      "\n",
      "b3Printf: kuka_experimental/kuka_kr210_support/urdf/: cannot extract anything useful from mesh 'kuka_experimental/kuka_kr210_support/meshes/kr210l150/visual/link_1.dae'\n",
      "\n",
      "b3Printf: b3Warning[examples/SharedMemory/plugins/tinyRendererPlugin/TinyRendererVisualShapeConverter.cpp,558]:\n",
      "\n",
      "b3Printf: issue extracting mesh from COLLADA/STL file kuka_experimental/kuka_kr210_support/meshes/kr210l150/visual/link_1.dae\n",
      "\n",
      "b3Printf: b3Warning[examples/Importers/ImportURDFDemo/BulletUrdfImporter.cpp,1166]:\n",
      "\n",
      "b3Printf: kuka_experimental/kuka_kr210_support/urdf/: cannot extract anything useful from mesh 'kuka_experimental/kuka_kr210_support/meshes/kr210l150/visual/link_2.dae'\n",
      "\n",
      "b3Printf: b3Warning[examples/SharedMemory/plugins/tinyRendererPlugin/TinyRendererVisualShapeConverter.cpp,558]:\n",
      "\n",
      "b3Printf: issue extracting mesh from COLLADA/STL file kuka_experimental/kuka_kr210_support/meshes/kr210l150/visual/link_2.dae\n",
      "\n",
      "b3Printf: b3Warning[examples/Importers/ImportURDFDemo/BulletUrdfImporter.cpp,1166]:\n",
      "\n",
      "b3Printf: kuka_experimental/kuka_kr210_support/urdf/: cannot extract anything useful from mesh 'kuka_experimental/kuka_kr210_support/meshes/kr210l150/visual/link_3.dae'\n",
      "\n",
      "b3Printf: b3Warning[examples/SharedMemory/plugins/tinyRendererPlugin/TinyRendererVisualShapeConverter.cpp,558]:\n",
      "\n",
      "b3Printf: issue extracting mesh from COLLADA/STL file kuka_experimental/kuka_kr210_support/meshes/kr210l150/visual/link_3.dae\n",
      "\n",
      "b3Printf: b3Warning[examples/Importers/ImportURDFDemo/BulletUrdfImporter.cpp,1166]:\n",
      "\n",
      "b3Printf: kuka_experimental/kuka_kr210_support/urdf/: cannot extract anything useful from mesh 'kuka_experimental/kuka_kr210_support/meshes/kr210l150/visual/link_4.dae'\n",
      "\n",
      "b3Printf: b3Warning[examples/SharedMemory/plugins/tinyRendererPlugin/TinyRendererVisualShapeConverter.cpp,558]:\n",
      "\n",
      "b3Printf: issue extracting mesh from COLLADA/STL file kuka_experimental/kuka_kr210_support/meshes/kr210l150/visual/link_4.dae\n",
      "\n",
      "b3Printf: b3Warning[examples/Importers/ImportURDFDemo/BulletUrdfImporter.cpp,1166]:\n",
      "\n",
      "b3Printf: kuka_experimental/kuka_kr210_support/urdf/: cannot extr"
     ]
    }
   ],
   "execution_count": 7
  },
  {
   "metadata": {
    "ExecuteTime": {
     "end_time": "2025-05-22T08:45:02.639559Z",
     "start_time": "2025-05-22T08:45:02.636518Z"
    }
   },
   "cell_type": "code",
   "source": [
    "position, orientation = pybullet.getBasePositionAndOrientation(robot)  #\n",
    "#getBasePositionAndOrientation:返回笛卡尔世界坐标中body的base的当前位置和姿态。位置是[x,y,z]，姿态是[x，y，z，w]格式的四元数，可以使用getEulerFromQuaternion将四元数转换为Euler角。\n",
    "#参数：objectUniqueID:对象唯一 ID，作为 loadURDF 返回的\n",
    "#physicsClientId:如果你连接到多个服务器，你可以选择一个。\n",
    "orientation"
   ],
   "id": "f52a3670d6ce88a7",
   "outputs": [
    {
     "data": {
      "text/plain": [
       "(0.0, 0.0, 0.0, 1.0)"
      ]
     },
     "execution_count": 8,
     "metadata": {},
     "output_type": "execute_result"
    }
   ],
   "execution_count": 8
  },
  {
   "metadata": {
    "ExecuteTime": {
     "end_time": "2025-05-22T08:45:20.141679Z",
     "start_time": "2025-05-22T08:45:20.138796Z"
    }
   },
   "cell_type": "code",
   "source": [
    "pybullet.getNumJoints(bodyUniqueId=robot)  # getNumJoint:加载机器人后，你可以使用这个API查询关节数量。对于 r2d2.urdf，返回值应为 15。\n",
    "#参数：bodyUniqueId:\n",
    "#physicsClientId:"
   ],
   "id": "543053a5be0d0b33",
   "outputs": [
    {
     "data": {
      "text/plain": [
       "8"
      ]
     },
     "execution_count": 9,
     "metadata": {},
     "output_type": "execute_result"
    }
   ],
   "execution_count": 9
  },
  {
   "metadata": {
    "ExecuteTime": {
     "end_time": "2025-05-22T08:45:27.267271Z",
     "start_time": "2025-05-22T08:45:27.264042Z"
    }
   },
   "cell_type": "code",
   "source": [
    "# 获取第二个关节的信息\n",
    "joint_index = 2\n",
    "joint_info = pybullet.getJointInfo(robot, joint_index)  # getJointInfo:获取关节信息\n",
    "name, joint_type, lower_limit, upper_limit = \\\n",
    "    joint_info[1], joint_info[2], joint_info[8], joint_info[9]\n",
    "name, joint_type, lower_limit, upper_limit"
   ],
   "id": "ff728d4016e444fc",
   "outputs": [
    {
     "data": {
      "text/plain": [
       "(b'joint_a3', 0, -3.66519153, 1.134464045)"
      ]
     },
     "execution_count": 10,
     "metadata": {},
     "output_type": "execute_result"
    }
   ],
   "execution_count": 10
  },
  {
   "metadata": {
    "ExecuteTime": {
     "end_time": "2025-05-22T08:46:24.088391Z",
     "start_time": "2025-05-22T08:46:24.084762Z"
    }
   },
   "cell_type": "code",
   "source": [
    "# 提取前6个关节的关节的位置\n",
    "joint_positions = [j[0] for j in pybullet.getJointStates(robot, range(6))]\n",
    "#getJointStates:获取多个关节的状态信息，比如关节的位置、速度、关节反力和关节驱动力\n",
    "joint_positions"
   ],
   "id": "97a51457c1986a34",
   "outputs": [
    {
     "data": {
      "text/plain": [
       "[0.0, 0.0, 0.0, 0.0, 0.0, 0.0]"
      ]
     },
     "execution_count": 11,
     "metadata": {},
     "output_type": "execute_result"
    }
   ],
   "execution_count": 11
  },
  {
   "metadata": {
    "ExecuteTime": {
     "end_time": "2025-05-22T08:46:31.331447Z",
     "start_time": "2025-05-22T08:46:31.328397Z"
    }
   },
   "cell_type": "code",
   "source": [
    "world_position, world_orientation = pybullet.getLinkState(robot, 2)[:2]\n",
    "#getLinkState:获取每个关节的质心的笛卡尔世界位置和姿态\n",
    "#返回值：linkWorldPosition:质心的笛卡尔位置\n",
    "#linkWorldOrientation:质心的笛卡尔姿态，四元数[x,y,z,w]表示\n",
    "world_position"
   ],
   "id": "c41750592edd405e",
   "outputs": [
    {
     "data": {
      "text/plain": [
       "(0.538471517, -0.0005601400000000145, 1.957291)"
      ]
     },
     "execution_count": 12,
     "metadata": {},
     "output_type": "execute_result"
    }
   ],
   "execution_count": 12
  },
  {
   "metadata": {
    "ExecuteTime": {
     "end_time": "2025-05-22T08:46:34.830740Z",
     "start_time": "2025-05-22T08:46:34.828481Z"
    }
   },
   "cell_type": "code",
   "source": [
    "pybullet.setGravity(0, 0, -9.81)   # everything should fall down\n",
    "#setGravity:可以设置所有对象的默认重力\n",
    "#输入参数：gravX,gravY,garvZ;沿X，Y，Z世界轴的重力\n",
    "pybullet.setTimeStep(0.0001)       # this slows everything down, but let's be accurate...\n",
    "#setTimeStep:设置每次调用 stepSimulation 所需的时间。(单位为秒，范围通常为 0.01 或 0.001）\n",
    "pybullet.setRealTimeSimulation(0)  # we want to be faster than real time :)\n",
    "#启用或禁用物理服务器中的实时模拟（使用实时时钟 RTC）。需要一个整数参数，0 或 1"
   ],
   "id": "2b05a939de9ab36",
   "outputs": [],
   "execution_count": 13
  },
  {
   "metadata": {
    "ExecuteTime": {
     "end_time": "2025-05-22T08:46:38.634914Z",
     "start_time": "2025-05-22T08:46:38.631931Z"
    }
   },
   "cell_type": "code",
   "source": [
    "pybullet.setJointMotorControlArray(\n",
    "    robot, range(6), pybullet.POSITION_CONTROL,\n",
    "    targetPositions=[0.1] * 6)\n",
    "#setJointMotorControlArray:设置关节电机控制模式\n",
    "#输入参数：bodyUniqueId\n",
    "#jointIndices:index在范围[0...getNumJoints(bodyUniqueId)]内\n",
    "#controlMode:控制模式\n",
    "#targetPostions:在 POSITION_CONTROL 中，targetValue 是关节的目标位置。"
   ],
   "id": "3e8f1316a61fa8ff",
   "outputs": [],
   "execution_count": 14
  },
  {
   "metadata": {
    "ExecuteTime": {
     "end_time": "2025-05-22T08:46:40.549699Z",
     "start_time": "2025-05-22T08:46:40.381592Z"
    }
   },
   "cell_type": "code",
   "source": [
    "for _ in range(10000):\n",
    "    pybullet.stepSimulation()\n",
    "#stepSimulation:将在一个正演动力学仿真步骤中执行所有操作，如碰撞检测、约束求解和积分。默认的时间步长为 1/240 秒，可以使用 setTimeStep 或 setPhysicsEngineParameter API\n",
    "# 进行更改。"
   ],
   "id": "2228ecbe29897b0a",
   "outputs": [],
   "execution_count": 15
  },
  {
   "metadata": {
    "ExecuteTime": {
     "end_time": "2025-05-22T08:47:33.707852Z",
     "start_time": "2025-05-22T08:47:33.057173Z"
    }
   },
   "cell_type": "code",
   "source": [
    "pybullet.resetSimulation()  # resetSimulation:该函数会移除当前环境中的所有对象并复位当前环境\n",
    "plane = pybullet.loadURDF(\"plane.urdf\")  # loadURDF:导入URDF物理模型\n",
    "robot = pybullet.loadURDF(\"kuka_experimental/kuka_kr210_support/urdf/kr210l150.urdf\",\n",
    "                          [0, 0, 0], useFixedBase=1)  # use a fixed base!  useFixedBase:强制加载对象的底座为静态\n",
    "pybullet.setGravity(0, 0, -9.81)\n",
    "pybullet.setTimeStep(0.0001)\n",
    "pybullet.setRealTimeSimulation(0)"
   ],
   "id": "d62a3043bca833a",
   "outputs": [
    {
     "name": "stdout",
     "output_type": "stream",
     "text": [
      "b3Printf: b3Warning[examples/SharedMemory/plugins/tinyRendererPlugin/TinyRendererVisualShapeConverter.cpp,558]:\n",
      "\n",
      "b3Printf: issue extracting mesh from COLLADA/STL file kuka_experimental/kuka_kr210_support/meshes/kr210l150/visual/link_5.dae\n",
      "\n",
      "b3Printf: b3Warning[examples/Importers/ImportURDFDemo/BulletUrdfImporter.cpp,1166]:\n",
      "\n",
      "b3Printf: kuka_experimental/kuka_kr210_support/urdf/: cannot extract anything useful from mesh 'kuka_experimental/kuka_kr210_support/meshes/kr210l150/visual/link_6.dae'\n",
      "\n",
      "b3Printf: b3Warning[examples/SharedMemory/plugins/tinyRendererPlugin/TinyRendererVisualShapeConverter.cpp,558]:\n",
      "\n",
      "b3Printf: issue extracting mesh from COLLADA/STL file kuka_experimental/kuka_kr210_support/meshes/kr210l150/visual/link_6.dae\n",
      "\n",
      "b3Printf: b3Warning[examples/Importers/ImportURDFDemo/BulletUrdfImporter.cpp,126]:\n",
      "\n",
      "b3Printf: No inertial data for link, using mass=1, localinertiadiagonal = 1,1,1, identity local inertial frame\n",
      "b3Printf: b3Warning[examples/Importers/ImportURDFDemo/BulletUrdfImporter.cpp,126]:\n",
      "\n",
      "b3Printf: tool0\n",
      "b3Printf: b3Warning[examples/Importers/ImportURDFDemo/BulletUrdfImporter.cpp,126]:\n",
      "\n",
      "b3Printf: No inertial data for link, using mass=1, localinertiadiagonal = 1,1,1, identity local inertial frame\n",
      "b3Printf: b3Warning[examples/Importers/ImportURDFDemo/BulletUrdfImporter.cpp,126]:\n",
      "\n",
      "b3Printf: Link1\n",
      "b3Printf: b3Warning[examples/Importers/ImportURDFDemo/BulletUrdfImporter.cpp,1166]:\n",
      "\n",
      "b3Printf: kuka_experimental/kuka_kr210_support/urdf/: cannot extract anything useful from mesh 'kuka_experimental/kuka_kr210_support/meshes/kr210l150/visual/base_link.dae'\n",
      "\n",
      "b3Printf: b3Warning[examples/SharedMemory/plugins/tinyRendererPlugin/TinyRendererVisualShapeConverter.cpp,558]:\n",
      "\n",
      "b3Printf: issue extracting mesh from COLLADA/STL file kuka_experimental/kuka_kr210_support/meshes/kr210l150/visual/base_link.dae\n",
      "\n",
      "b3Printf: b3Warning[examples/Importers/ImportURDFDemo/BulletUrdfImporter.cpp,1166]:\n",
      "\n",
      "b3Printf: kuka_experimental/kuka_kr210_support/urdf/: cannot extract anything useful from mesh 'kuka_experimental/kuka_kr210_support/meshes/kr210l150/visual/link_1.dae'\n",
      "\n",
      "b3Printf: b3Warning[examples/SharedMemory/plugins/tinyRendererPlugin/TinyRendererVisualShapeConverter.cpp,558]:\n",
      "\n",
      "b3Printf: issue extracting mesh from COLLADA/STL file kuka_experimental/kuka_kr210_support/meshes/kr210l150/visual/link_1.dae\n",
      "\n",
      "b3Printf: b3Warning[examples/Importers/ImportURDFDemo/BulletUrdfImporter.cpp,1166]:\n",
      "\n",
      "b3Printf: kuka_experimental/kuka_kr210_support/urdf/: cannot extract anything useful from mesh 'kuka_experimental/kuka_kr210_support/meshes/kr210l150/visual/link_2.dae'\n",
      "\n",
      "b3Printf: b3Warning[examples/SharedMemory/plugins/tinyRendererPlugin/TinyRendererVisualShapeConverter.cpp,558]:\n",
      "\n",
      "b3Printf: issue extracting mesh from COLLADA/STL file kuka_experimental/kuka_kr210_support/meshes/kr210l150/visual/link_2.dae\n",
      "\n",
      "b3Printf: b3Warning[examples/Importers/ImportURDFDemo/BulletUrdfImporter.cpp,1166]:\n",
      "\n",
      "b3Printf: kuka_experimental/kuka_kr210_support/urdf/: cannot extract anything useful from mesh 'kuka_experimental/kuka_kr210_support/meshes/kr210l150/visual/link_3.dae'\n",
      "\n",
      "b3Printf: b3Warning[examples/SharedMemory/plugins/tinyRendererPlugin/TinyRendererVisualShapeConverter.cpp,558]:\n",
      "\n",
      "b3Printf: issue extracting mesh from COLLADA/STL file kuka_experimental/kuka_kr210_support/meshes/kr210l150/visual/link_3.dae\n",
      "\n",
      "b3Printf: b3Warning[examples/Importers/ImportURDFDemo/BulletUrdfImporter.cpp,1166]:\n",
      "\n",
      "b3Printf: kuka_experimental/kuka_kr210_support/urdf/: cannot extract anything useful from mesh 'kuka_experimental/kuka_kr210_support/meshes/kr210l150/visual/link_4.dae'\n",
      "\n",
      "b3Printf: b3Warning[examples/SharedMemory/plugins/tinyRendererPlugin/TinyRendererVisualShapeConverter.cpp,558]:\n",
      "\n",
      "b3Printf: issue extracting mesh from COLLADA/STL file kuka_experimental/kuka_kr210_support/meshes/kr210l150/visual/link_4.dae\n",
      "\n",
      "b3Printf: b3Warning[examples/Importers/ImportURDFDemo/BulletUrdfImporter.cpp,1166]:\n",
      "\n",
      "b3Printf: kuka_experimental/kuka_kr210_support/urdf/: cannot extract anything useful from mesh 'kuka_experimental/kuka_kr210_support/meshes/kr210l150/visual/link_5.dae'\n",
      "\n",
      "b3Printf: b3Warning[examples/Shared"
     ]
    }
   ],
   "execution_count": 19
  },
  {
   "metadata": {
    "ExecuteTime": {
     "end_time": "2025-05-22T08:48:06.269927Z",
     "start_time": "2025-05-22T08:48:06.187179Z"
    }
   },
   "cell_type": "code",
   "source": [
    "pybullet.setJointMotorControlArray(\n",
    "    robot, range(6), pybullet.POSITION_CONTROL,\n",
    "    targetPositions=[0.1] * 6)\n",
    "for _ in range(10000):\n",
    "    pybullet.stepSimulation()"
   ],
   "id": "1a4e0777cc6091d6",
   "outputs": [],
   "execution_count": 21
  },
  {
   "metadata": {
    "ExecuteTime": {
     "end_time": "2025-05-22T08:48:07.244160Z",
     "start_time": "2025-05-22T08:48:07.179273Z"
    }
   },
   "cell_type": "code",
   "source": [
    "pybullet.disconnect()\n",
    "#disconnect:使用连接调用返回的物理客户端Id（如果非负）断开与物理服务器的连接"
   ],
   "id": "24a124427b9a7012",
   "outputs": [],
   "execution_count": 22
  },
  {
   "metadata": {},
   "cell_type": "code",
   "outputs": [],
   "execution_count": null,
   "source": "",
   "id": "8c51a9632d543df7"
  }
 ],
 "metadata": {
  "kernelspec": {
   "display_name": "Python 3",
   "language": "python",
   "name": "python3"
  },
  "language_info": {
   "codemirror_mode": {
    "name": "ipython",
    "version": 2
   },
   "file_extension": ".py",
   "mimetype": "text/x-python",
   "name": "python",
   "nbconvert_exporter": "python",
   "pygments_lexer": "ipython2",
   "version": "2.7.6"
  }
 },
 "nbformat": 4,
 "nbformat_minor": 5
}
